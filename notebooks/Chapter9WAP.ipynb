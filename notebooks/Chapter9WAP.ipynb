{
 "cells": [
  {
   "cell_type": "code",
   "execution_count": 1,
   "id": "d8c25704",
   "metadata": {},
   "outputs": [
    {
     "name": "stdout",
     "output_type": "stream",
     "text": [
      "env: AWS_REGION=region\n",
      "env: AWS_ACCESS_KEY_ID=key\n",
      "env: AWS_SECRET_ACCESS_KEY=secret\n"
     ]
    }
   ],
   "source": [
    "# Define the AWS env variables if you are using AWS Auth:\n",
    "%env AWS_REGION= region\n",
    "%env AWS_ACCESS_KEY_ID= key\n",
    "%env AWS_SECRET_ACCESS_KEY= secret"
   ]
  },
  {
   "cell_type": "code",
   "execution_count": 2,
   "id": "88939453",
   "metadata": {
    "scrolled": true
   },
   "outputs": [
    {
     "name": "stdout",
     "output_type": "stream",
     "text": [
      ":: loading settings :: url = jar:file:/home/docker/.local/lib/python3.10/site-packages/pyspark/jars/ivy-2.5.0.jar!/org/apache/ivy/core/settings/ivysettings.xml\n"
     ]
    },
    {
     "name": "stderr",
     "output_type": "stream",
     "text": [
      "Ivy Default Cache set to: /home/docker/.ivy2/cache\n",
      "The jars for the packages stored in: /home/docker/.ivy2/jars\n",
      "org.apache.iceberg#iceberg-spark-runtime-3.3_2.12 added as a dependency\n",
      "software.amazon.awssdk#bundle added as a dependency\n",
      "software.amazon.awssdk#url-connection-client added as a dependency\n",
      ":: resolving dependencies :: org.apache.spark#spark-submit-parent-fa930a13-7dc5-4267-8f33-fd7877a6eb80;1.0\n",
      "\tconfs: [default]\n",
      "\tfound org.apache.iceberg#iceberg-spark-runtime-3.3_2.12;1.2.0 in central\n",
      "\tfound software.amazon.awssdk#bundle;2.17.178 in central\n",
      "\tfound software.amazon.eventstream#eventstream;1.0.1 in central\n",
      "\tfound software.amazon.awssdk#url-connection-client;2.17.178 in central\n",
      "\tfound software.amazon.awssdk#utils;2.17.178 in central\n",
      "\tfound org.reactivestreams#reactive-streams;1.0.3 in central\n",
      "\tfound software.amazon.awssdk#annotations;2.17.178 in central\n",
      "\tfound org.slf4j#slf4j-api;1.7.30 in central\n",
      "\tfound software.amazon.awssdk#http-client-spi;2.17.178 in central\n",
      "\tfound software.amazon.awssdk#metrics-spi;2.17.178 in central\n",
      ":: resolution report :: resolve 3463ms :: artifacts dl 93ms\n",
      "\t:: modules in use:\n",
      "\torg.apache.iceberg#iceberg-spark-runtime-3.3_2.12;1.2.0 from central in [default]\n",
      "\torg.reactivestreams#reactive-streams;1.0.3 from central in [default]\n",
      "\torg.slf4j#slf4j-api;1.7.30 from central in [default]\n",
      "\tsoftware.amazon.awssdk#annotations;2.17.178 from central in [default]\n",
      "\tsoftware.amazon.awssdk#bundle;2.17.178 from central in [default]\n",
      "\tsoftware.amazon.awssdk#http-client-spi;2.17.178 from central in [default]\n",
      "\tsoftware.amazon.awssdk#metrics-spi;2.17.178 from central in [default]\n",
      "\tsoftware.amazon.awssdk#url-connection-client;2.17.178 from central in [default]\n",
      "\tsoftware.amazon.awssdk#utils;2.17.178 from central in [default]\n",
      "\tsoftware.amazon.eventstream#eventstream;1.0.1 from central in [default]\n",
      "\t---------------------------------------------------------------------\n",
      "\t|                  |            modules            ||   artifacts   |\n",
      "\t|       conf       | number| search|dwnlded|evicted|| number|dwnlded|\n",
      "\t---------------------------------------------------------------------\n",
      "\t|      default     |   10  |   0   |   0   |   0   ||   10  |   0   |\n",
      "\t---------------------------------------------------------------------\n",
      ":: retrieving :: org.apache.spark#spark-submit-parent-fa930a13-7dc5-4267-8f33-fd7877a6eb80\n",
      "\tconfs: [default]\n",
      "\t0 artifacts copied, 10 already retrieved (0kB/60ms)\n"
     ]
    },
    {
     "name": "stdout",
     "output_type": "stream",
     "text": [
      "23/08/21 19:14:03 WARN NativeCodeLoader: Unable to load native-hadoop library for your platform... using builtin-java classes where applicable\n"
     ]
    },
    {
     "name": "stderr",
     "output_type": "stream",
     "text": [
      "Setting default log level to \"WARN\".\n",
      "To adjust logging level use sc.setLogLevel(newLevel). For SparkR, use setLogLevel(newLevel).\n"
     ]
    },
    {
     "name": "stdout",
     "output_type": "stream",
     "text": [
      "Spark Running\n"
     ]
    }
   ],
   "source": [
    "import pyspark\n",
    "from pyspark.sql import SparkSession\n",
    "import os\n",
    "\n",
    "\n",
    "conf = (\n",
    "    pyspark.SparkConf()\n",
    "        .setAppName('app_name')\n",
    "    \n",
    "    # first we will define the packages that we need. Iceberg Spark runtime\n",
    "        .set('spark.jars.packages', 'org.apache.iceberg:iceberg-spark-runtime-3.3_2.12:1.2.0,software.amazon.awssdk:bundle:2.17.178,software.amazon.awssdk:url-connection-client:2.17.178')\n",
    "        \n",
    "    # This property allows us to add any extensions that we want to use\n",
    "        .set('spark.sql.extensions', 'org.apache.iceberg.spark.extensions.IcebergSparkSessionExtensions')\n",
    "    \n",
    "    # configures a new catalog to a particular implementation of SparkCatalog\n",
    "        .set('spark.sql.catalog.glue', 'org.apache.iceberg.spark.SparkCatalog')\n",
    "    \n",
    "    # particular type of catalog we are using\n",
    "        .set('spark.sql.catalog.glue.catalog-impl', 'org.apache.iceberg.aws.glue.GlueCatalog')\n",
    "    \n",
    "    # engine writes to the warehouse\n",
    "        .set('spark.sql.catalog.glue.warehouse', 's3://my-bucket/warehouse/')\n",
    "    \n",
    "    # changes IO impl of catalog, mainly for changing writing data to object storage\n",
    "        .set('spark.sql.catalog.glue.io-impl', 'org.apache.iceberg.aws.s3.S3FileIO')\n",
    ")\n",
    "\n",
    "## Start Spark Session\n",
    "spark = SparkSession.builder.config(conf=conf).getOrCreate()\n",
    "print(\"Spark Running\")"
   ]
  },
  {
   "cell_type": "markdown",
   "id": "1202d5f1",
   "metadata": {},
   "source": [
    "# Create Table ProductSales"
   ]
  },
  {
   "cell_type": "code",
   "execution_count": 8,
   "id": "7bae6772",
   "metadata": {},
   "outputs": [
    {
     "data": {
      "text/plain": [
       "DataFrame[]"
      ]
     },
     "execution_count": 8,
     "metadata": {},
     "output_type": "execute_result"
    }
   ],
   "source": [
    "# New:\n",
    "spark.sql(\n",
    "    \"\"\"CREATE TABLE IF NOT EXISTS glue.test.productsales\n",
    "            (OrderID string, Product string, Qty string, Price string, Date string, Address string) USING iceberg\"\"\"\n",
    ")"
   ]
  },
  {
   "cell_type": "code",
   "execution_count": 9,
   "id": "c236e000",
   "metadata": {},
   "outputs": [
    {
     "name": "stderr",
     "output_type": "stream",
     "text": [
      "                                                                                \r"
     ]
    },
    {
     "data": {
      "text/plain": [
       "DataFrame[]"
      ]
     },
     "execution_count": 9,
     "metadata": {},
     "output_type": "execute_result"
    }
   ],
   "source": [
    "spark.sql(\n",
    "    \"\"\"CREATE OR REPLACE TEMPORARY VIEW salesview USING csv\n",
    "            OPTIONS (path \"sales_clean_new.csv\", header true)\"\"\"\n",
    ")\n",
    "spark.sql(\"INSERT INTO glue.test.productsales SELECT * FROM salesview\")"
   ]
  },
  {
   "cell_type": "code",
   "execution_count": 10,
   "id": "f480d15f",
   "metadata": {},
   "outputs": [
    {
     "name": "stderr",
     "output_type": "stream",
     "text": [
      "<jemalloc>: MADV_DONTNEED does not work (memset will be used instead)\n",
      "<jemalloc>: (This is the expected behaviour if you are running under QEMU)\n",
      "                                                                                \r"
     ]
    },
    {
     "data": {
      "text/html": [
       "<div>\n",
       "<style scoped>\n",
       "    .dataframe tbody tr th:only-of-type {\n",
       "        vertical-align: middle;\n",
       "    }\n",
       "\n",
       "    .dataframe tbody tr th {\n",
       "        vertical-align: top;\n",
       "    }\n",
       "\n",
       "    .dataframe thead th {\n",
       "        text-align: right;\n",
       "    }\n",
       "</style>\n",
       "<table border=\"1\" class=\"dataframe\">\n",
       "  <thead>\n",
       "    <tr style=\"text-align: right;\">\n",
       "      <th></th>\n",
       "      <th>OrderID</th>\n",
       "      <th>Product</th>\n",
       "      <th>Qty</th>\n",
       "      <th>Price</th>\n",
       "      <th>Date</th>\n",
       "      <th>Address</th>\n",
       "    </tr>\n",
       "  </thead>\n",
       "  <tbody>\n",
       "    <tr>\n",
       "      <th>0</th>\n",
       "      <td>176558</td>\n",
       "      <td>USB-C Charging Cable</td>\n",
       "      <td>2</td>\n",
       "      <td>11.95</td>\n",
       "      <td>04/19/19 08:46</td>\n",
       "      <td>917 1st St, Dallas, TX 75001</td>\n",
       "    </tr>\n",
       "    <tr>\n",
       "      <th>1</th>\n",
       "      <td>176559</td>\n",
       "      <td>Bose SoundSport Headphones</td>\n",
       "      <td>1</td>\n",
       "      <td>99.99</td>\n",
       "      <td>04/07/19 22:30</td>\n",
       "      <td>682 Chestnut St, Boston, MA 02215</td>\n",
       "    </tr>\n",
       "    <tr>\n",
       "      <th>2</th>\n",
       "      <td>176560</td>\n",
       "      <td>Google Phone</td>\n",
       "      <td>1</td>\n",
       "      <td>600</td>\n",
       "      <td>04/12/19 14:38</td>\n",
       "      <td>669 Spruce St, Los Angeles, CA 90001</td>\n",
       "    </tr>\n",
       "    <tr>\n",
       "      <th>3</th>\n",
       "      <td>176560</td>\n",
       "      <td>Wired Headphones</td>\n",
       "      <td>1</td>\n",
       "      <td>11.99</td>\n",
       "      <td>04/12/19 14:38</td>\n",
       "      <td>669 Spruce St, Los Angeles, CA 90001</td>\n",
       "    </tr>\n",
       "    <tr>\n",
       "      <th>4</th>\n",
       "      <td>176561</td>\n",
       "      <td>Wired Headphones</td>\n",
       "      <td>1</td>\n",
       "      <td>11.99</td>\n",
       "      <td>04/30/19 09:27</td>\n",
       "      <td>333 8th St, Los Angeles, CA 90001</td>\n",
       "    </tr>\n",
       "    <tr>\n",
       "      <th>...</th>\n",
       "      <td>...</td>\n",
       "      <td>...</td>\n",
       "      <td>...</td>\n",
       "      <td>...</td>\n",
       "      <td>...</td>\n",
       "      <td>...</td>\n",
       "    </tr>\n",
       "    <tr>\n",
       "      <th>18261</th>\n",
       "      <td>194090</td>\n",
       "      <td>Google Phone</td>\n",
       "      <td>1</td>\n",
       "      <td>600</td>\n",
       "      <td>04/08/19 17:11</td>\n",
       "      <td>177 Jackson St, Los Angeles, CA 90001</td>\n",
       "    </tr>\n",
       "    <tr>\n",
       "      <th>18262</th>\n",
       "      <td>194091</td>\n",
       "      <td>AA Batteries (4-pack)</td>\n",
       "      <td>1</td>\n",
       "      <td>3.84</td>\n",
       "      <td>04/15/19 16:02</td>\n",
       "      <td>311 Forest St, Austin, TX 73301</td>\n",
       "    </tr>\n",
       "    <tr>\n",
       "      <th>18263</th>\n",
       "      <td>194092</td>\n",
       "      <td>AAA Batteries (4-pack)</td>\n",
       "      <td>2</td>\n",
       "      <td>2.99</td>\n",
       "      <td>04/28/19 14:36</td>\n",
       "      <td>347 Sunset St, San Francisco, CA 94016</td>\n",
       "    </tr>\n",
       "    <tr>\n",
       "      <th>18264</th>\n",
       "      <td>194093</td>\n",
       "      <td>AA Batteries (4-pack)</td>\n",
       "      <td>1</td>\n",
       "      <td>3.84</td>\n",
       "      <td>04/14/19 15:09</td>\n",
       "      <td>835 Lake St, Portland, OR 97035</td>\n",
       "    </tr>\n",
       "    <tr>\n",
       "      <th>18265</th>\n",
       "      <td>194094</td>\n",
       "      <td>Lightning Charging Cable</td>\n",
       "      <td>1</td>\n",
       "      <td>14.95</td>\n",
       "      <td>04/18/19 11:08</td>\n",
       "      <td>354 North St, Boston, MA 02215</td>\n",
       "    </tr>\n",
       "  </tbody>\n",
       "</table>\n",
       "<p>18266 rows × 6 columns</p>\n",
       "</div>"
      ],
      "text/plain": [
       "      OrderID                     Product Qty  Price            Date  \\\n",
       "0      176558        USB-C Charging Cable   2  11.95  04/19/19 08:46   \n",
       "1      176559  Bose SoundSport Headphones   1  99.99  04/07/19 22:30   \n",
       "2      176560                Google Phone   1    600  04/12/19 14:38   \n",
       "3      176560            Wired Headphones   1  11.99  04/12/19 14:38   \n",
       "4      176561            Wired Headphones   1  11.99  04/30/19 09:27   \n",
       "...       ...                         ...  ..    ...             ...   \n",
       "18261  194090                Google Phone   1    600  04/08/19 17:11   \n",
       "18262  194091       AA Batteries (4-pack)   1   3.84  04/15/19 16:02   \n",
       "18263  194092      AAA Batteries (4-pack)   2   2.99  04/28/19 14:36   \n",
       "18264  194093       AA Batteries (4-pack)   1   3.84  04/14/19 15:09   \n",
       "18265  194094    Lightning Charging Cable   1  14.95  04/18/19 11:08   \n",
       "\n",
       "                                      Address  \n",
       "0                917 1st St, Dallas, TX 75001  \n",
       "1           682 Chestnut St, Boston, MA 02215  \n",
       "2        669 Spruce St, Los Angeles, CA 90001  \n",
       "3        669 Spruce St, Los Angeles, CA 90001  \n",
       "4           333 8th St, Los Angeles, CA 90001  \n",
       "...                                       ...  \n",
       "18261   177 Jackson St, Los Angeles, CA 90001  \n",
       "18262         311 Forest St, Austin, TX 73301  \n",
       "18263  347 Sunset St, San Francisco, CA 94016  \n",
       "18264         835 Lake St, Portland, OR 97035  \n",
       "18265          354 North St, Boston, MA 02215  \n",
       "\n",
       "[18266 rows x 6 columns]"
      ]
     },
     "execution_count": 10,
     "metadata": {},
     "output_type": "execute_result"
    }
   ],
   "source": [
    "spark.sql(\"SELECT * FROM glue.test.productsales\").toPandas()"
   ]
  },
  {
   "cell_type": "markdown",
   "id": "8d9396d1",
   "metadata": {},
   "source": [
    "# CREATE A NEW BRANCH"
   ]
  },
  {
   "cell_type": "code",
   "execution_count": 11,
   "id": "e987e38b",
   "metadata": {},
   "outputs": [
    {
     "name": "stdout",
     "output_type": "stream",
     "text": [
      "23/08/21 19:28:55 WARN BaseTransaction: Failed to load metadata for a committed snapshot, skipping clean-up\n",
      "++\n",
      "||\n",
      "++\n",
      "++\n",
      "\n"
     ]
    }
   ],
   "source": [
    "spark.sql(\"ALTER TABLE glue.test.productsales CREATE BRANCH ETL_branch\").show()"
   ]
  },
  {
   "cell_type": "markdown",
   "id": "df693838",
   "metadata": {},
   "source": [
    "# Check all the existing branches"
   ]
  },
  {
   "cell_type": "code",
   "execution_count": 12,
   "id": "2480912e",
   "metadata": {},
   "outputs": [
    {
     "data": {
      "text/html": [
       "<div>\n",
       "<style scoped>\n",
       "    .dataframe tbody tr th:only-of-type {\n",
       "        vertical-align: middle;\n",
       "    }\n",
       "\n",
       "    .dataframe tbody tr th {\n",
       "        vertical-align: top;\n",
       "    }\n",
       "\n",
       "    .dataframe thead th {\n",
       "        text-align: right;\n",
       "    }\n",
       "</style>\n",
       "<table border=\"1\" class=\"dataframe\">\n",
       "  <thead>\n",
       "    <tr style=\"text-align: right;\">\n",
       "      <th></th>\n",
       "      <th>name</th>\n",
       "      <th>type</th>\n",
       "      <th>snapshot_id</th>\n",
       "      <th>max_reference_age_in_ms</th>\n",
       "      <th>min_snapshots_to_keep</th>\n",
       "      <th>max_snapshot_age_in_ms</th>\n",
       "    </tr>\n",
       "  </thead>\n",
       "  <tbody>\n",
       "    <tr>\n",
       "      <th>0</th>\n",
       "      <td>ETL_branch</td>\n",
       "      <td>BRANCH</td>\n",
       "      <td>3416205539179840364</td>\n",
       "      <td>NaN</td>\n",
       "      <td>NaN</td>\n",
       "      <td>NaN</td>\n",
       "    </tr>\n",
       "    <tr>\n",
       "      <th>1</th>\n",
       "      <td>main</td>\n",
       "      <td>BRANCH</td>\n",
       "      <td>3416205539179840364</td>\n",
       "      <td>NaN</td>\n",
       "      <td>NaN</td>\n",
       "      <td>NaN</td>\n",
       "    </tr>\n",
       "  </tbody>\n",
       "</table>\n",
       "</div>"
      ],
      "text/plain": [
       "         name    type          snapshot_id  max_reference_age_in_ms  \\\n",
       "0  ETL_branch  BRANCH  3416205539179840364                      NaN   \n",
       "1        main  BRANCH  3416205539179840364                      NaN   \n",
       "\n",
       "   min_snapshots_to_keep  max_snapshot_age_in_ms  \n",
       "0                    NaN                     NaN  \n",
       "1                    NaN                     NaN  "
      ]
     },
     "execution_count": 12,
     "metadata": {},
     "output_type": "execute_result"
    }
   ],
   "source": [
    "spark.sql(\"SELECT * FROM glue.test.productsales.refs\").toPandas()"
   ]
  },
  {
   "cell_type": "markdown",
   "id": "02ba4afa",
   "metadata": {},
   "source": [
    "# Query from this new branch explicitly"
   ]
  },
  {
   "cell_type": "code",
   "execution_count": 13,
   "id": "2347f61a",
   "metadata": {},
   "outputs": [
    {
     "name": "stderr",
     "output_type": "stream",
     "text": [
      "                                                                                \r"
     ]
    },
    {
     "data": {
      "text/html": [
       "<div>\n",
       "<style scoped>\n",
       "    .dataframe tbody tr th:only-of-type {\n",
       "        vertical-align: middle;\n",
       "    }\n",
       "\n",
       "    .dataframe tbody tr th {\n",
       "        vertical-align: top;\n",
       "    }\n",
       "\n",
       "    .dataframe thead th {\n",
       "        text-align: right;\n",
       "    }\n",
       "</style>\n",
       "<table border=\"1\" class=\"dataframe\">\n",
       "  <thead>\n",
       "    <tr style=\"text-align: right;\">\n",
       "      <th></th>\n",
       "      <th>OrderID</th>\n",
       "      <th>Product</th>\n",
       "      <th>Qty</th>\n",
       "      <th>Price</th>\n",
       "      <th>Date</th>\n",
       "      <th>Address</th>\n",
       "    </tr>\n",
       "  </thead>\n",
       "  <tbody>\n",
       "    <tr>\n",
       "      <th>0</th>\n",
       "      <td>176558</td>\n",
       "      <td>USB-C Charging Cable</td>\n",
       "      <td>2</td>\n",
       "      <td>11.95</td>\n",
       "      <td>04/19/19 08:46</td>\n",
       "      <td>917 1st St, Dallas, TX 75001</td>\n",
       "    </tr>\n",
       "    <tr>\n",
       "      <th>1</th>\n",
       "      <td>176559</td>\n",
       "      <td>Bose SoundSport Headphones</td>\n",
       "      <td>1</td>\n",
       "      <td>99.99</td>\n",
       "      <td>04/07/19 22:30</td>\n",
       "      <td>682 Chestnut St, Boston, MA 02215</td>\n",
       "    </tr>\n",
       "    <tr>\n",
       "      <th>2</th>\n",
       "      <td>176560</td>\n",
       "      <td>Google Phone</td>\n",
       "      <td>1</td>\n",
       "      <td>600</td>\n",
       "      <td>04/12/19 14:38</td>\n",
       "      <td>669 Spruce St, Los Angeles, CA 90001</td>\n",
       "    </tr>\n",
       "    <tr>\n",
       "      <th>3</th>\n",
       "      <td>176560</td>\n",
       "      <td>Wired Headphones</td>\n",
       "      <td>1</td>\n",
       "      <td>11.99</td>\n",
       "      <td>04/12/19 14:38</td>\n",
       "      <td>669 Spruce St, Los Angeles, CA 90001</td>\n",
       "    </tr>\n",
       "    <tr>\n",
       "      <th>4</th>\n",
       "      <td>176561</td>\n",
       "      <td>Wired Headphones</td>\n",
       "      <td>1</td>\n",
       "      <td>11.99</td>\n",
       "      <td>04/30/19 09:27</td>\n",
       "      <td>333 8th St, Los Angeles, CA 90001</td>\n",
       "    </tr>\n",
       "    <tr>\n",
       "      <th>...</th>\n",
       "      <td>...</td>\n",
       "      <td>...</td>\n",
       "      <td>...</td>\n",
       "      <td>...</td>\n",
       "      <td>...</td>\n",
       "      <td>...</td>\n",
       "    </tr>\n",
       "    <tr>\n",
       "      <th>18261</th>\n",
       "      <td>194090</td>\n",
       "      <td>Google Phone</td>\n",
       "      <td>1</td>\n",
       "      <td>600</td>\n",
       "      <td>04/08/19 17:11</td>\n",
       "      <td>177 Jackson St, Los Angeles, CA 90001</td>\n",
       "    </tr>\n",
       "    <tr>\n",
       "      <th>18262</th>\n",
       "      <td>194091</td>\n",
       "      <td>AA Batteries (4-pack)</td>\n",
       "      <td>1</td>\n",
       "      <td>3.84</td>\n",
       "      <td>04/15/19 16:02</td>\n",
       "      <td>311 Forest St, Austin, TX 73301</td>\n",
       "    </tr>\n",
       "    <tr>\n",
       "      <th>18263</th>\n",
       "      <td>194092</td>\n",
       "      <td>AAA Batteries (4-pack)</td>\n",
       "      <td>2</td>\n",
       "      <td>2.99</td>\n",
       "      <td>04/28/19 14:36</td>\n",
       "      <td>347 Sunset St, San Francisco, CA 94016</td>\n",
       "    </tr>\n",
       "    <tr>\n",
       "      <th>18264</th>\n",
       "      <td>194093</td>\n",
       "      <td>AA Batteries (4-pack)</td>\n",
       "      <td>1</td>\n",
       "      <td>3.84</td>\n",
       "      <td>04/14/19 15:09</td>\n",
       "      <td>835 Lake St, Portland, OR 97035</td>\n",
       "    </tr>\n",
       "    <tr>\n",
       "      <th>18265</th>\n",
       "      <td>194094</td>\n",
       "      <td>Lightning Charging Cable</td>\n",
       "      <td>1</td>\n",
       "      <td>14.95</td>\n",
       "      <td>04/18/19 11:08</td>\n",
       "      <td>354 North St, Boston, MA 02215</td>\n",
       "    </tr>\n",
       "  </tbody>\n",
       "</table>\n",
       "<p>18266 rows × 6 columns</p>\n",
       "</div>"
      ],
      "text/plain": [
       "      OrderID                     Product Qty  Price            Date  \\\n",
       "0      176558        USB-C Charging Cable   2  11.95  04/19/19 08:46   \n",
       "1      176559  Bose SoundSport Headphones   1  99.99  04/07/19 22:30   \n",
       "2      176560                Google Phone   1    600  04/12/19 14:38   \n",
       "3      176560            Wired Headphones   1  11.99  04/12/19 14:38   \n",
       "4      176561            Wired Headphones   1  11.99  04/30/19 09:27   \n",
       "...       ...                         ...  ..    ...             ...   \n",
       "18261  194090                Google Phone   1    600  04/08/19 17:11   \n",
       "18262  194091       AA Batteries (4-pack)   1   3.84  04/15/19 16:02   \n",
       "18263  194092      AAA Batteries (4-pack)   2   2.99  04/28/19 14:36   \n",
       "18264  194093       AA Batteries (4-pack)   1   3.84  04/14/19 15:09   \n",
       "18265  194094    Lightning Charging Cable   1  14.95  04/18/19 11:08   \n",
       "\n",
       "                                      Address  \n",
       "0                917 1st St, Dallas, TX 75001  \n",
       "1           682 Chestnut St, Boston, MA 02215  \n",
       "2        669 Spruce St, Los Angeles, CA 90001  \n",
       "3        669 Spruce St, Los Angeles, CA 90001  \n",
       "4           333 8th St, Los Angeles, CA 90001  \n",
       "...                                       ...  \n",
       "18261   177 Jackson St, Los Angeles, CA 90001  \n",
       "18262         311 Forest St, Austin, TX 73301  \n",
       "18263  347 Sunset St, San Francisco, CA 94016  \n",
       "18264         835 Lake St, Portland, OR 97035  \n",
       "18265          354 North St, Boston, MA 02215  \n",
       "\n",
       "[18266 rows x 6 columns]"
      ]
     },
     "execution_count": 13,
     "metadata": {},
     "output_type": "execute_result"
    }
   ],
   "source": [
    "spark.sql(\"SELECT * FROM glue.test.productsales VERSION AS OF 'ETL_branch'\").toPandas()"
   ]
  },
  {
   "cell_type": "markdown",
   "id": "4b7aefc9",
   "metadata": {},
   "source": [
    "# WRITE stage:"
   ]
  },
  {
   "cell_type": "code",
   "execution_count": 14,
   "id": "7f9ecf44",
   "metadata": {},
   "outputs": [
    {
     "name": "stdout",
     "output_type": "stream",
     "text": [
      "23/08/21 19:46:32 WARN BaseTransaction: Failed to load metadata for a committed snapshot, skipping clean-up\n"
     ]
    },
    {
     "data": {
      "text/plain": [
       "DataFrame[]"
      ]
     },
     "execution_count": 14,
     "metadata": {},
     "output_type": "execute_result"
    }
   ],
   "source": [
    "spark.sql(\n",
    "    \"\"\"ALTER TABLE glue.test.productsales\n",
    "       SET TBLPROPERTIES ('write.wap.enabled'='true')\"\"\"\n",
    ")"
   ]
  },
  {
   "cell_type": "code",
   "execution_count": 15,
   "id": "2eeb3458",
   "metadata": {},
   "outputs": [],
   "source": [
    "spark.conf.set('spark.wap.branch', 'ETL_branch')"
   ]
  },
  {
   "cell_type": "markdown",
   "id": "6978d4df",
   "metadata": {},
   "source": [
    "# Ingest some new records"
   ]
  },
  {
   "cell_type": "code",
   "execution_count": 16,
   "id": "3b5b9eea",
   "metadata": {
    "scrolled": false
   },
   "outputs": [
    {
     "name": "stderr",
     "output_type": "stream",
     "text": [
      "                                                                                \r"
     ]
    },
    {
     "data": {
      "text/plain": [
       "DataFrame[]"
      ]
     },
     "execution_count": 16,
     "metadata": {},
     "output_type": "execute_result"
    }
   ],
   "source": [
    "spark.sql(\n",
    "    \"\"\"CREATE OR REPLACE TEMPORARY VIEW salesetlnew USING csv\n",
    "            OPTIONS (path \"Sales_January_2019.csv\", header true)\"\"\"\n",
    ")"
   ]
  },
  {
   "cell_type": "code",
   "execution_count": 17,
   "id": "dd4a866b",
   "metadata": {},
   "outputs": [
    {
     "name": "stderr",
     "output_type": "stream",
     "text": [
      "                                                                                \r"
     ]
    },
    {
     "data": {
      "text/plain": [
       "DataFrame[]"
      ]
     },
     "execution_count": 17,
     "metadata": {},
     "output_type": "execute_result"
    }
   ],
   "source": [
    "spark.sql(\"INSERT INTO glue.test.productsales SELECT * FROM salesetlnew\")"
   ]
  },
  {
   "cell_type": "markdown",
   "id": "c84b199e",
   "metadata": {},
   "source": [
    "# Query to see if the new records were ingested"
   ]
  },
  {
   "cell_type": "code",
   "execution_count": 19,
   "id": "c8e5c063",
   "metadata": {},
   "outputs": [
    {
     "name": "stderr",
     "output_type": "stream",
     "text": [
      "                                                                                \r"
     ]
    },
    {
     "data": {
      "text/html": [
       "<div>\n",
       "<style scoped>\n",
       "    .dataframe tbody tr th:only-of-type {\n",
       "        vertical-align: middle;\n",
       "    }\n",
       "\n",
       "    .dataframe tbody tr th {\n",
       "        vertical-align: top;\n",
       "    }\n",
       "\n",
       "    .dataframe thead th {\n",
       "        text-align: right;\n",
       "    }\n",
       "</style>\n",
       "<table border=\"1\" class=\"dataframe\">\n",
       "  <thead>\n",
       "    <tr style=\"text-align: right;\">\n",
       "      <th></th>\n",
       "      <th>OrderID</th>\n",
       "      <th>Product</th>\n",
       "      <th>Qty</th>\n",
       "      <th>Price</th>\n",
       "      <th>Date</th>\n",
       "      <th>Address</th>\n",
       "    </tr>\n",
       "  </thead>\n",
       "  <tbody>\n",
       "    <tr>\n",
       "      <th>0</th>\n",
       "      <td>141234</td>\n",
       "      <td>iPhone</td>\n",
       "      <td>1</td>\n",
       "      <td>700</td>\n",
       "      <td>01/22/19 21:25</td>\n",
       "      <td>944 Walnut St, Boston, MA 02215</td>\n",
       "    </tr>\n",
       "    <tr>\n",
       "      <th>1</th>\n",
       "      <td>141235</td>\n",
       "      <td>Lightning Charging Cable</td>\n",
       "      <td>1</td>\n",
       "      <td>14.95</td>\n",
       "      <td>01/28/19 14:15</td>\n",
       "      <td>185 Maple St, Portland, OR 97035</td>\n",
       "    </tr>\n",
       "    <tr>\n",
       "      <th>2</th>\n",
       "      <td>141236</td>\n",
       "      <td>Wired Headphones</td>\n",
       "      <td>2</td>\n",
       "      <td>11.99</td>\n",
       "      <td>01/17/19 13:33</td>\n",
       "      <td>538 Adams St, San Francisco, CA 94016</td>\n",
       "    </tr>\n",
       "    <tr>\n",
       "      <th>3</th>\n",
       "      <td>141237</td>\n",
       "      <td>27in FHD Monitor</td>\n",
       "      <td>1</td>\n",
       "      <td>149.99</td>\n",
       "      <td>01/05/19 20:33</td>\n",
       "      <td>738 10th St, Los Angeles, CA 90001</td>\n",
       "    </tr>\n",
       "    <tr>\n",
       "      <th>4</th>\n",
       "      <td>141238</td>\n",
       "      <td>Wired Headphones</td>\n",
       "      <td>1</td>\n",
       "      <td>11.99</td>\n",
       "      <td>01/25/19 11:59</td>\n",
       "      <td>387 10th St, Austin, TX 73301</td>\n",
       "    </tr>\n",
       "    <tr>\n",
       "      <th>...</th>\n",
       "      <td>...</td>\n",
       "      <td>...</td>\n",
       "      <td>...</td>\n",
       "      <td>...</td>\n",
       "      <td>...</td>\n",
       "      <td>...</td>\n",
       "    </tr>\n",
       "    <tr>\n",
       "      <th>27984</th>\n",
       "      <td>194090</td>\n",
       "      <td>Google Phone</td>\n",
       "      <td>1</td>\n",
       "      <td>600</td>\n",
       "      <td>04/08/19 17:11</td>\n",
       "      <td>177 Jackson St, Los Angeles, CA 90001</td>\n",
       "    </tr>\n",
       "    <tr>\n",
       "      <th>27985</th>\n",
       "      <td>194091</td>\n",
       "      <td>AA Batteries (4-pack)</td>\n",
       "      <td>1</td>\n",
       "      <td>3.84</td>\n",
       "      <td>04/15/19 16:02</td>\n",
       "      <td>311 Forest St, Austin, TX 73301</td>\n",
       "    </tr>\n",
       "    <tr>\n",
       "      <th>27986</th>\n",
       "      <td>194092</td>\n",
       "      <td>AAA Batteries (4-pack)</td>\n",
       "      <td>2</td>\n",
       "      <td>2.99</td>\n",
       "      <td>04/28/19 14:36</td>\n",
       "      <td>347 Sunset St, San Francisco, CA 94016</td>\n",
       "    </tr>\n",
       "    <tr>\n",
       "      <th>27987</th>\n",
       "      <td>194093</td>\n",
       "      <td>AA Batteries (4-pack)</td>\n",
       "      <td>1</td>\n",
       "      <td>3.84</td>\n",
       "      <td>04/14/19 15:09</td>\n",
       "      <td>835 Lake St, Portland, OR 97035</td>\n",
       "    </tr>\n",
       "    <tr>\n",
       "      <th>27988</th>\n",
       "      <td>194094</td>\n",
       "      <td>Lightning Charging Cable</td>\n",
       "      <td>1</td>\n",
       "      <td>14.95</td>\n",
       "      <td>04/18/19 11:08</td>\n",
       "      <td>354 North St, Boston, MA 02215</td>\n",
       "    </tr>\n",
       "  </tbody>\n",
       "</table>\n",
       "<p>27989 rows × 6 columns</p>\n",
       "</div>"
      ],
      "text/plain": [
       "      OrderID                   Product Qty   Price            Date  \\\n",
       "0      141234                    iPhone   1     700  01/22/19 21:25   \n",
       "1      141235  Lightning Charging Cable   1   14.95  01/28/19 14:15   \n",
       "2      141236          Wired Headphones   2   11.99  01/17/19 13:33   \n",
       "3      141237          27in FHD Monitor   1  149.99  01/05/19 20:33   \n",
       "4      141238          Wired Headphones   1   11.99  01/25/19 11:59   \n",
       "...       ...                       ...  ..     ...             ...   \n",
       "27984  194090              Google Phone   1     600  04/08/19 17:11   \n",
       "27985  194091     AA Batteries (4-pack)   1    3.84  04/15/19 16:02   \n",
       "27986  194092    AAA Batteries (4-pack)   2    2.99  04/28/19 14:36   \n",
       "27987  194093     AA Batteries (4-pack)   1    3.84  04/14/19 15:09   \n",
       "27988  194094  Lightning Charging Cable   1   14.95  04/18/19 11:08   \n",
       "\n",
       "                                      Address  \n",
       "0             944 Walnut St, Boston, MA 02215  \n",
       "1            185 Maple St, Portland, OR 97035  \n",
       "2       538 Adams St, San Francisco, CA 94016  \n",
       "3          738 10th St, Los Angeles, CA 90001  \n",
       "4               387 10th St, Austin, TX 73301  \n",
       "...                                       ...  \n",
       "27984   177 Jackson St, Los Angeles, CA 90001  \n",
       "27985         311 Forest St, Austin, TX 73301  \n",
       "27986  347 Sunset St, San Francisco, CA 94016  \n",
       "27987         835 Lake St, Portland, OR 97035  \n",
       "27988          354 North St, Boston, MA 02215  \n",
       "\n",
       "[27989 rows x 6 columns]"
      ]
     },
     "execution_count": 19,
     "metadata": {},
     "output_type": "execute_result"
    }
   ],
   "source": [
    "spark.sql(\"SELECT * FROM glue.test.productsales VERSION AS OF 'ETL_branch'\").toPandas()"
   ]
  },
  {
   "cell_type": "markdown",
   "id": "139c8486",
   "metadata": {},
   "source": [
    "# Query the 'main' branch to validate"
   ]
  },
  {
   "cell_type": "code",
   "execution_count": 20,
   "id": "efc4ef87",
   "metadata": {},
   "outputs": [
    {
     "name": "stderr",
     "output_type": "stream",
     "text": [
      "                                                                                \r"
     ]
    },
    {
     "data": {
      "text/html": [
       "<div>\n",
       "<style scoped>\n",
       "    .dataframe tbody tr th:only-of-type {\n",
       "        vertical-align: middle;\n",
       "    }\n",
       "\n",
       "    .dataframe tbody tr th {\n",
       "        vertical-align: top;\n",
       "    }\n",
       "\n",
       "    .dataframe thead th {\n",
       "        text-align: right;\n",
       "    }\n",
       "</style>\n",
       "<table border=\"1\" class=\"dataframe\">\n",
       "  <thead>\n",
       "    <tr style=\"text-align: right;\">\n",
       "      <th></th>\n",
       "      <th>OrderID</th>\n",
       "      <th>Product</th>\n",
       "      <th>Qty</th>\n",
       "      <th>Price</th>\n",
       "      <th>Date</th>\n",
       "      <th>Address</th>\n",
       "    </tr>\n",
       "  </thead>\n",
       "  <tbody>\n",
       "    <tr>\n",
       "      <th>0</th>\n",
       "      <td>176558</td>\n",
       "      <td>USB-C Charging Cable</td>\n",
       "      <td>2</td>\n",
       "      <td>11.95</td>\n",
       "      <td>04/19/19 08:46</td>\n",
       "      <td>917 1st St, Dallas, TX 75001</td>\n",
       "    </tr>\n",
       "    <tr>\n",
       "      <th>1</th>\n",
       "      <td>176559</td>\n",
       "      <td>Bose SoundSport Headphones</td>\n",
       "      <td>1</td>\n",
       "      <td>99.99</td>\n",
       "      <td>04/07/19 22:30</td>\n",
       "      <td>682 Chestnut St, Boston, MA 02215</td>\n",
       "    </tr>\n",
       "    <tr>\n",
       "      <th>2</th>\n",
       "      <td>176560</td>\n",
       "      <td>Google Phone</td>\n",
       "      <td>1</td>\n",
       "      <td>600</td>\n",
       "      <td>04/12/19 14:38</td>\n",
       "      <td>669 Spruce St, Los Angeles, CA 90001</td>\n",
       "    </tr>\n",
       "    <tr>\n",
       "      <th>3</th>\n",
       "      <td>176560</td>\n",
       "      <td>Wired Headphones</td>\n",
       "      <td>1</td>\n",
       "      <td>11.99</td>\n",
       "      <td>04/12/19 14:38</td>\n",
       "      <td>669 Spruce St, Los Angeles, CA 90001</td>\n",
       "    </tr>\n",
       "    <tr>\n",
       "      <th>4</th>\n",
       "      <td>176561</td>\n",
       "      <td>Wired Headphones</td>\n",
       "      <td>1</td>\n",
       "      <td>11.99</td>\n",
       "      <td>04/30/19 09:27</td>\n",
       "      <td>333 8th St, Los Angeles, CA 90001</td>\n",
       "    </tr>\n",
       "    <tr>\n",
       "      <th>...</th>\n",
       "      <td>...</td>\n",
       "      <td>...</td>\n",
       "      <td>...</td>\n",
       "      <td>...</td>\n",
       "      <td>...</td>\n",
       "      <td>...</td>\n",
       "    </tr>\n",
       "    <tr>\n",
       "      <th>18261</th>\n",
       "      <td>194090</td>\n",
       "      <td>Google Phone</td>\n",
       "      <td>1</td>\n",
       "      <td>600</td>\n",
       "      <td>04/08/19 17:11</td>\n",
       "      <td>177 Jackson St, Los Angeles, CA 90001</td>\n",
       "    </tr>\n",
       "    <tr>\n",
       "      <th>18262</th>\n",
       "      <td>194091</td>\n",
       "      <td>AA Batteries (4-pack)</td>\n",
       "      <td>1</td>\n",
       "      <td>3.84</td>\n",
       "      <td>04/15/19 16:02</td>\n",
       "      <td>311 Forest St, Austin, TX 73301</td>\n",
       "    </tr>\n",
       "    <tr>\n",
       "      <th>18263</th>\n",
       "      <td>194092</td>\n",
       "      <td>AAA Batteries (4-pack)</td>\n",
       "      <td>2</td>\n",
       "      <td>2.99</td>\n",
       "      <td>04/28/19 14:36</td>\n",
       "      <td>347 Sunset St, San Francisco, CA 94016</td>\n",
       "    </tr>\n",
       "    <tr>\n",
       "      <th>18264</th>\n",
       "      <td>194093</td>\n",
       "      <td>AA Batteries (4-pack)</td>\n",
       "      <td>1</td>\n",
       "      <td>3.84</td>\n",
       "      <td>04/14/19 15:09</td>\n",
       "      <td>835 Lake St, Portland, OR 97035</td>\n",
       "    </tr>\n",
       "    <tr>\n",
       "      <th>18265</th>\n",
       "      <td>194094</td>\n",
       "      <td>Lightning Charging Cable</td>\n",
       "      <td>1</td>\n",
       "      <td>14.95</td>\n",
       "      <td>04/18/19 11:08</td>\n",
       "      <td>354 North St, Boston, MA 02215</td>\n",
       "    </tr>\n",
       "  </tbody>\n",
       "</table>\n",
       "<p>18266 rows × 6 columns</p>\n",
       "</div>"
      ],
      "text/plain": [
       "      OrderID                     Product Qty  Price            Date  \\\n",
       "0      176558        USB-C Charging Cable   2  11.95  04/19/19 08:46   \n",
       "1      176559  Bose SoundSport Headphones   1  99.99  04/07/19 22:30   \n",
       "2      176560                Google Phone   1    600  04/12/19 14:38   \n",
       "3      176560            Wired Headphones   1  11.99  04/12/19 14:38   \n",
       "4      176561            Wired Headphones   1  11.99  04/30/19 09:27   \n",
       "...       ...                         ...  ..    ...             ...   \n",
       "18261  194090                Google Phone   1    600  04/08/19 17:11   \n",
       "18262  194091       AA Batteries (4-pack)   1   3.84  04/15/19 16:02   \n",
       "18263  194092      AAA Batteries (4-pack)   2   2.99  04/28/19 14:36   \n",
       "18264  194093       AA Batteries (4-pack)   1   3.84  04/14/19 15:09   \n",
       "18265  194094    Lightning Charging Cable   1  14.95  04/18/19 11:08   \n",
       "\n",
       "                                      Address  \n",
       "0                917 1st St, Dallas, TX 75001  \n",
       "1           682 Chestnut St, Boston, MA 02215  \n",
       "2        669 Spruce St, Los Angeles, CA 90001  \n",
       "3        669 Spruce St, Los Angeles, CA 90001  \n",
       "4           333 8th St, Los Angeles, CA 90001  \n",
       "...                                       ...  \n",
       "18261   177 Jackson St, Los Angeles, CA 90001  \n",
       "18262         311 Forest St, Austin, TX 73301  \n",
       "18263  347 Sunset St, San Francisco, CA 94016  \n",
       "18264         835 Lake St, Portland, OR 97035  \n",
       "18265          354 North St, Boston, MA 02215  \n",
       "\n",
       "[18266 rows x 6 columns]"
      ]
     },
     "execution_count": 20,
     "metadata": {},
     "output_type": "execute_result"
    }
   ],
   "source": [
    "spark.sql(\"SELECT * FROM glue.test.productsales VERSION AS OF 'main'\").toPandas()"
   ]
  },
  {
   "cell_type": "markdown",
   "id": "31995aff",
   "metadata": {},
   "source": [
    "# Audit Stage:"
   ]
  },
  {
   "cell_type": "markdown",
   "id": "07d057ae",
   "metadata": {},
   "source": [
    "* NULL Value check"
   ]
  },
  {
   "cell_type": "code",
   "execution_count": 21,
   "id": "dfb4870b",
   "metadata": {},
   "outputs": [
    {
     "name": "stderr",
     "output_type": "stream",
     "text": [
      "                                                                                \r"
     ]
    },
    {
     "name": "stdout",
     "output_type": "stream",
     "text": [
      "There are NULL values in the DataFrame.\n"
     ]
    }
   ],
   "source": [
    "from pyspark.sql.functions import isnan, when, count, col\n",
    "\n",
    "# Load your DataFrame\n",
    "df_qc_sales = spark.read.option(\"branch\", \"ETL_branch\") \\\n",
    "        .format(\"iceberg\") \\\n",
    "        .load(\"glue.test.productsales\") \\\n",
    "\n",
    "# Check for NULL values in all columns\n",
    "null_counts_new = df_qc_sales.select([count(when(isnan(c) | col(c).isNull(), c)).alias(c) for c in df_qc_sales.columns]).collect()[0]\n",
    "\n",
    "# Check if any columns have NULL values\n",
    "if any([null_counts_new[i] > 0 for i in range(len(null_counts_new))]):\n",
    "    print(\"There are NULL values in the DataFrame.\")\n",
    "else:\n",
    "    print(\"There are no NULL values in the DataFrame.\")\n"
   ]
  },
  {
   "cell_type": "code",
   "execution_count": 22,
   "id": "665fe776",
   "metadata": {},
   "outputs": [
    {
     "name": "stdout",
     "output_type": "stream",
     "text": [
      "Row(OrderID=26, Product=26, Qty=26, Price=26, Date=26, Address=26)\n"
     ]
    }
   ],
   "source": [
    "print(null_counts_new)"
   ]
  },
  {
   "cell_type": "markdown",
   "id": "499d5921",
   "metadata": {},
   "source": [
    "* Duplicate records"
   ]
  },
  {
   "cell_type": "code",
   "execution_count": 34,
   "id": "c969fff0",
   "metadata": {},
   "outputs": [
    {
     "name": "stderr",
     "output_type": "stream",
     "text": [
      "                                                                                \r"
     ]
    },
    {
     "name": "stdout",
     "output_type": "stream",
     "text": [
      "There are duplicate rows in the DataFrame\n"
     ]
    },
    {
     "name": "stderr",
     "output_type": "stream",
     "text": [
      "                                                                                \r"
     ]
    },
    {
     "name": "stdout",
     "output_type": "stream",
     "text": [
      "+--------+--------------------+----------------+----------+--------------+--------------------+-----+\n",
      "| OrderID|             Product|             Qty|     Price|          Date|             Address|count|\n",
      "+--------+--------------------+----------------+----------+--------------+--------------------+-----+\n",
      "|  142071|AA Batteries (4-p...|               1|      3.84|01/17/19 23:02|131 2nd St, Bosto...|    2|\n",
      "|Order ID|             Product|Quantity Ordered|Price Each|    Order Date|    Purchase Address|   16|\n",
      "|  145143|Lightning Chargin...|               1|     14.95|01/06/19 03:01|182 Jefferson St,...|    2|\n",
      "|  146765|        Google Phone|               1|       600|01/21/19 11:23|918 Highland St, ...|    2|\n",
      "|  147707|    Wired Headphones|               1|     11.99|01/04/19 16:50|883 4th St, Dalla...|    2|\n",
      "|  148984|USB-C Charging Cable|               1|     11.95|01/08/19 17:36|562 14th St, Bost...|    2|\n",
      "|  149149|Lightning Chargin...|               1|     14.95|01/12/19 12:30|180 1st St, Bosto...|    2|\n",
      "|  149308|Apple Airpods Hea...|               1|       150|01/02/19 23:07|351 Madison St, N...|    2|\n",
      "|  149515|USB-C Charging Cable|               1|     11.95|01/14/19 21:19|913 10th St, Los ...|    2|\n",
      "|  149738|USB-C Charging Cable|               1|     11.95|01/11/19 11:22|612 West St, New ...|    2|\n",
      "|  150216|    Wired Headphones|               1|     11.99|01/21/19 09:20|691 Pine St, San ...|    2|\n",
      "+--------+--------------------+----------------+----------+--------------+--------------------+-----+\n",
      "\n"
     ]
    }
   ],
   "source": [
    "from pyspark.sql import functions as F\n",
    "\n",
    "# Assuming you've loaded your DataFrame as df_qc_sales\n",
    "\n",
    "# Group by all columns and count occurrences of each combination, then filter those with a count greater than 1\n",
    "duplicate_counts = df_qc_sales.groupBy(df_qc_sales.columns) \\\n",
    "                              .agg(F.count('*').alias('count')) \\\n",
    "                              .filter('count > 1')\n",
    "\n",
    "# Check if there are any duplicate rows\n",
    "if duplicate_counts.count() > 0:\n",
    "    print(\"There are duplicate rows in the DataFrame\")\n",
    "else:\n",
    "    print(\"There are no duplicate rows in the DataFrame\")\n",
    "\n",
    "# Join the duplicate_counts with the original DataFrame on all columns to get the actual records, then drop duplicates\n",
    "duplicated_records = df_qc_sales.join(duplicate_counts.drop('count'), on=df_qc_sales.columns, how=\"inner\") \\\n",
    "                                .dropDuplicates()\n",
    "\n",
    "# Add the count column back to the dataframe\n",
    "duplicated_records = duplicated_records.join(duplicate_counts, on=df_qc_sales.columns, how=\"left\")\n",
    "\n",
    "# Display duplicated records with their counts\n",
    "duplicated_records.show()\n"
   ]
  },
  {
   "cell_type": "markdown",
   "id": "1c0ae511",
   "metadata": {},
   "source": [
    "* Date Consistency"
   ]
  },
  {
   "cell_type": "code",
   "execution_count": 38,
   "id": "9279bccb",
   "metadata": {},
   "outputs": [
    {
     "name": "stderr",
     "output_type": "stream",
     "text": [
      "                                                                                \r"
     ]
    },
    {
     "name": "stdout",
     "output_type": "stream",
     "text": [
      "There are 2 distinct invalid dates in the DataFrame.\n"
     ]
    },
    {
     "name": "stderr",
     "output_type": "stream",
     "text": [
      "                                                                                \r"
     ]
    },
    {
     "name": "stdout",
     "output_type": "stream",
     "text": [
      "+----------+-----+\n",
      "|      Date|count|\n",
      "+----------+-----+\n",
      "|Order Date|   16|\n",
      "|      null|   26|\n",
      "+----------+-----+\n",
      "\n"
     ]
    },
    {
     "name": "stderr",
     "output_type": "stream",
     "text": [
      "[Stage 39:>                                                         (0 + 1) / 1]\r"
     ]
    },
    {
     "name": "stdout",
     "output_type": "stream",
     "text": [
      "All dates are within the expected range (2019-01-01 to 2019-04-31) in the DataFrame.\n"
     ]
    },
    {
     "name": "stderr",
     "output_type": "stream",
     "text": [
      "                                                                                \r"
     ]
    }
   ],
   "source": [
    "from pyspark.sql.functions import unix_timestamp, col, lit, count\n",
    "\n",
    "# Convert the date string into a DateType column\n",
    "df_with_date = df_qc_sales.withColumn(\"parsed_date\", unix_timestamp(col(\"Date\"), \"MM/dd/yy HH:mm\").cast(\"timestamp\"))\n",
    "\n",
    "# Filter and group by invalid dates, then count occurrences\n",
    "invalid_dates_df = df_with_date.filter(col(\"parsed_date\").isNull()) \\\n",
    "                               .groupBy(\"Date\").agg(count(\"*\").alias(\"count\"))\n",
    "\n",
    "# Display the invalid dates and their counts\n",
    "invalid_dates_count = invalid_dates_df.count()\n",
    "if invalid_dates_count > 0:\n",
    "    print(f\"There are {invalid_dates_count} distinct invalid dates in the DataFrame.\")\n",
    "    invalid_dates_df.show()\n",
    "else:\n",
    "    print(\"All dates are valid in the DataFrame.\")\n",
    "\n",
    "# Define an expected date range (e.g., from 2019-01-01 to 2020-12-31)\n",
    "start_date = \"2019-01-01\"\n",
    "end_date = \"2019-04-31\"\n",
    "\n",
    "# Check for dates outside the expected range\n",
    "out_of_range_dates_count = df_with_date.filter((col(\"parsed_date\") < lit(start_date)) | (col(\"parsed_date\") > lit(end_date))).count()\n",
    "if out_of_range_dates_count > 0:\n",
    "    print(f\"There are {out_of_range_dates_count} dates outside the expected range in the DataFrame.\")\n",
    "else:\n",
    "    print(f\"All dates are within the expected range ({start_date} to {end_date}) in the DataFrame.\")\n"
   ]
  },
  {
   "cell_type": "markdown",
   "id": "c6b650b0",
   "metadata": {},
   "source": [
    "# Applying Fixes to the Data Quality issues"
   ]
  },
  {
   "cell_type": "code",
   "execution_count": 39,
   "id": "cfe67f17",
   "metadata": {
    "scrolled": true
   },
   "outputs": [
    {
     "name": "stderr",
     "output_type": "stream",
     "text": [
      "                                                                                \r"
     ]
    },
    {
     "name": "stdout",
     "output_type": "stream",
     "text": [
      "+-------+--------------------+---+------+--------------+--------------------+\n",
      "|OrderID|             Product|Qty| Price|          Date|             Address|\n",
      "+-------+--------------------+---+------+--------------+--------------------+\n",
      "| 176558|USB-C Charging Cable|  2| 11.95|04/19/19 08:46|917 1st St, Dalla...|\n",
      "| 176559|Bose SoundSport H...|  1| 99.99|04/07/19 22:30|682 Chestnut St, ...|\n",
      "| 176560|        Google Phone|  1|   600|04/12/19 14:38|669 Spruce St, Lo...|\n",
      "| 176560|    Wired Headphones|  1| 11.99|04/12/19 14:38|669 Spruce St, Lo...|\n",
      "| 176561|    Wired Headphones|  1| 11.99|04/30/19 09:27|333 8th St, Los A...|\n",
      "| 176562|USB-C Charging Cable|  1| 11.95|04/29/19 13:03|381 Wilson St, Sa...|\n",
      "| 176563|Bose SoundSport H...|  1| 99.99|04/02/19 07:46|668 Center St, Se...|\n",
      "| 176564|USB-C Charging Cable|  1| 11.95|04/12/19 10:58|790 Ridge St, Atl...|\n",
      "| 176565|  Macbook Pro Laptop|  1|  1700|04/24/19 10:38|915 Willow St, Sa...|\n",
      "| 176566|    Wired Headphones|  1| 11.99|04/08/19 14:05|83 7th St, Boston...|\n",
      "| 176567|        Google Phone|  1|   600|04/18/19 17:18|444 7th St, Los A...|\n",
      "| 176568|Lightning Chargin...|  1| 14.95|04/15/19 12:18|438 Elm St, Seatt...|\n",
      "| 176569|27in 4K Gaming Mo...|  1|389.99|04/16/19 19:23|657 Hill St, Dall...|\n",
      "| 176570|AA Batteries (4-p...|  1|  3.84|04/22/19 15:09|186 12th St, Dall...|\n",
      "| 176571|Lightning Chargin...|  1| 14.95|04/19/19 14:29|253 Johnson St, A...|\n",
      "| 176572|Apple Airpods Hea...|  1|   150|04/04/19 20:30|149 Dogwood St, N...|\n",
      "| 176573|USB-C Charging Cable|  1| 11.95|04/27/19 18:41|214 Chestnut St, ...|\n",
      "| 176574|        Google Phone|  1|   600|04/03/19 19:42|20 Hill St, Los A...|\n",
      "| 176574|USB-C Charging Cable|  1| 11.95|04/03/19 19:42|20 Hill St, Los A...|\n",
      "| 176575|AAA Batteries (4-...|  1|  2.99|04/27/19 00:30|433 Hill St, New ...|\n",
      "+-------+--------------------+---+------+--------------+--------------------+\n",
      "only showing top 20 rows\n",
      "\n"
     ]
    },
    {
     "name": "stderr",
     "output_type": "stream",
     "text": [
      "[Stage 47:>                                                         (0 + 1) / 1]\r"
     ]
    },
    {
     "name": "stdout",
     "output_type": "stream",
     "text": [
      "+-------+--------------------+---+------+--------------+--------------------+\n",
      "|OrderID|             Product|Qty| Price|          Date|             Address|\n",
      "+-------+--------------------+---+------+--------------+--------------------+\n",
      "| 141234|              iPhone|  1|   700|01/22/19 21:25|944 Walnut St, Bo...|\n",
      "| 141235|Lightning Chargin...|  1| 14.95|01/28/19 14:15|185 Maple St, Por...|\n",
      "| 141236|    Wired Headphones|  2| 11.99|01/17/19 13:33|538 Adams St, San...|\n",
      "| 141237|    27in FHD Monitor|  1|149.99|01/05/19 20:33|738 10th St, Los ...|\n",
      "| 141238|    Wired Headphones|  1| 11.99|01/25/19 11:59|387 10th St, Aust...|\n",
      "| 141239|AAA Batteries (4-...|  1|  2.99|01/29/19 20:22|775 Willow St, Sa...|\n",
      "| 141240|27in 4K Gaming Mo...|  1|389.99|01/26/19 12:16|979 Park St, Los ...|\n",
      "| 141241|USB-C Charging Cable|  1| 11.95|01/05/19 12:04|181 6th St, San F...|\n",
      "| 141242|Bose SoundSport H...|  1| 99.99|01/01/19 10:30|867 Willow St, Lo...|\n",
      "| 141243|Apple Airpods Hea...|  1|   150|01/22/19 21:20|657 Johnson St, S...|\n",
      "| 141244|Apple Airpods Hea...|  1|   150|01/07/19 11:29|492 Walnut St, Sa...|\n",
      "| 141245|  Macbook Pro Laptop|  1|  1700|01/31/19 10:12|322 6th St, San F...|\n",
      "| 141246|AAA Batteries (4-...|  3|  2.99|01/09/19 18:57|618 7th St, Los A...|\n",
      "| 141247|    27in FHD Monitor|  1|149.99|01/25/19 19:19|512 Wilson St, Sa...|\n",
      "| 141248|       Flatscreen TV|  1|   300|01/03/19 21:54|363 Spruce St, Au...|\n",
      "| 141249|    27in FHD Monitor|  1|149.99|01/05/19 17:20|440 Cedar St, Por...|\n",
      "| 141250|     Vareebadd Phone|  1|   400|01/10/19 11:20|471 Center St, Lo...|\n",
      "| 141251|Apple Airpods Hea...|  1|   150|01/24/19 08:13|414 Walnut St, Bo...|\n",
      "| 141252|USB-C Charging Cable|  1| 11.95|01/30/19 09:28|220 9th St, Los A...|\n",
      "| 141253|AA Batteries (4-p...|  1|  3.84|01/17/19 00:09|385 11th St, Atla...|\n",
      "+-------+--------------------+---+------+--------------+--------------------+\n",
      "only showing top 20 rows\n",
      "\n"
     ]
    },
    {
     "name": "stderr",
     "output_type": "stream",
     "text": [
      "                                                                                \r"
     ]
    }
   ],
   "source": [
    "from pyspark.sql.functions import col, coalesce, percentile_approx, lit, unix_timestamp, count\n",
    "\n",
    "# Median Imputation\n",
    "# --------------------------\n",
    "\n",
    "# Calculate the median value for each column\n",
    "medians = df_qc_sales.agg(*[percentile_approx(col(c), 0.5).alias(c) for c in df_qc_sales.columns])\n",
    "\n",
    "# Replace null values with the calculated median\n",
    "df_imputed = df_qc_sales.select([coalesce(col(c), lit(str(medians.first()[c]))).alias(c) for c in df_qc_sales.columns])\n",
    "\n",
    "# Show the imputed DataFrame\n",
    "df_imputed.show()\n",
    "\n",
    "# Removing Duplicate Records\n",
    "# --------------------------\n",
    "\n",
    "df_no_duplicates = df_imputed.dropDuplicates()\n",
    "\n",
    "# Invalid Date Removal\n",
    "# --------------------------\n",
    "\n",
    "# Convert the date string into a DateType column.\n",
    "# If the date string is invalid, this conversion will result in null values.\n",
    "df_with_date = df_no_duplicates.withColumn(\"parsed_date\", unix_timestamp(col(\"Date\"), \"MM/dd/yy HH:mm\").cast(\"timestamp\"))\n",
    "\n",
    "# Remove rows with invalid dates\n",
    "df_valid_dates = df_with_date.filter(col(\"parsed_date\").isNotNull())\n",
    "\n",
    "# Final DataFrame\n",
    "# --------------------------\n",
    "\n",
    "# If you'd like to drop the \"parsed_date\" column added for validation:\n",
    "df_final = df_valid_dates.drop(\"parsed_date\")\n",
    "\n",
    "df_final.show()\n"
   ]
  },
  {
   "cell_type": "code",
   "execution_count": 43,
   "id": "78b78d6a",
   "metadata": {},
   "outputs": [
    {
     "name": "stderr",
     "output_type": "stream",
     "text": [
      "                                                                                \r"
     ]
    },
    {
     "data": {
      "text/plain": [
       "27937"
      ]
     },
     "execution_count": 43,
     "metadata": {},
     "output_type": "execute_result"
    }
   ],
   "source": [
    "df_final.count()"
   ]
  },
  {
   "cell_type": "code",
   "execution_count": 60,
   "id": "c21e2abc",
   "metadata": {},
   "outputs": [
    {
     "name": "stderr",
     "output_type": "stream",
     "text": [
      "                                                                                \r"
     ]
    },
    {
     "data": {
      "text/html": [
       "<div>\n",
       "<style scoped>\n",
       "    .dataframe tbody tr th:only-of-type {\n",
       "        vertical-align: middle;\n",
       "    }\n",
       "\n",
       "    .dataframe tbody tr th {\n",
       "        vertical-align: top;\n",
       "    }\n",
       "\n",
       "    .dataframe thead th {\n",
       "        text-align: right;\n",
       "    }\n",
       "</style>\n",
       "<table border=\"1\" class=\"dataframe\">\n",
       "  <thead>\n",
       "    <tr style=\"text-align: right;\">\n",
       "      <th></th>\n",
       "      <th>OrderID</th>\n",
       "      <th>Product</th>\n",
       "      <th>Qty</th>\n",
       "      <th>Price</th>\n",
       "      <th>Date</th>\n",
       "      <th>Address</th>\n",
       "    </tr>\n",
       "  </thead>\n",
       "  <tbody>\n",
       "    <tr>\n",
       "      <th>0</th>\n",
       "      <td>176558</td>\n",
       "      <td>USB-C Charging Cable</td>\n",
       "      <td>2</td>\n",
       "      <td>11.95</td>\n",
       "      <td>04/19/19 08:46</td>\n",
       "      <td>917 1st St, Dallas, TX 75001</td>\n",
       "    </tr>\n",
       "    <tr>\n",
       "      <th>1</th>\n",
       "      <td>176559</td>\n",
       "      <td>Bose SoundSport Headphones</td>\n",
       "      <td>1</td>\n",
       "      <td>99.99</td>\n",
       "      <td>04/07/19 22:30</td>\n",
       "      <td>682 Chestnut St, Boston, MA 02215</td>\n",
       "    </tr>\n",
       "    <tr>\n",
       "      <th>2</th>\n",
       "      <td>176560</td>\n",
       "      <td>Google Phone</td>\n",
       "      <td>1</td>\n",
       "      <td>600</td>\n",
       "      <td>04/12/19 14:38</td>\n",
       "      <td>669 Spruce St, Los Angeles, CA 90001</td>\n",
       "    </tr>\n",
       "    <tr>\n",
       "      <th>3</th>\n",
       "      <td>176560</td>\n",
       "      <td>Wired Headphones</td>\n",
       "      <td>1</td>\n",
       "      <td>11.99</td>\n",
       "      <td>04/12/19 14:38</td>\n",
       "      <td>669 Spruce St, Los Angeles, CA 90001</td>\n",
       "    </tr>\n",
       "    <tr>\n",
       "      <th>4</th>\n",
       "      <td>176561</td>\n",
       "      <td>Wired Headphones</td>\n",
       "      <td>1</td>\n",
       "      <td>11.99</td>\n",
       "      <td>04/30/19 09:27</td>\n",
       "      <td>333 8th St, Los Angeles, CA 90001</td>\n",
       "    </tr>\n",
       "    <tr>\n",
       "      <th>...</th>\n",
       "      <td>...</td>\n",
       "      <td>...</td>\n",
       "      <td>...</td>\n",
       "      <td>...</td>\n",
       "      <td>...</td>\n",
       "      <td>...</td>\n",
       "    </tr>\n",
       "    <tr>\n",
       "      <th>27932</th>\n",
       "      <td>150497</td>\n",
       "      <td>20in Monitor</td>\n",
       "      <td>1</td>\n",
       "      <td>109.99</td>\n",
       "      <td>01/26/19 19:09</td>\n",
       "      <td>95 8th St, Dallas, TX 75001</td>\n",
       "    </tr>\n",
       "    <tr>\n",
       "      <th>27933</th>\n",
       "      <td>150498</td>\n",
       "      <td>27in FHD Monitor</td>\n",
       "      <td>1</td>\n",
       "      <td>149.99</td>\n",
       "      <td>01/10/19 22:58</td>\n",
       "      <td>403 7th St, San Francisco, CA 94016</td>\n",
       "    </tr>\n",
       "    <tr>\n",
       "      <th>27934</th>\n",
       "      <td>150499</td>\n",
       "      <td>ThinkPad Laptop</td>\n",
       "      <td>1</td>\n",
       "      <td>999.99</td>\n",
       "      <td>01/21/19 14:31</td>\n",
       "      <td>214 Main St, Portland, OR 97035</td>\n",
       "    </tr>\n",
       "    <tr>\n",
       "      <th>27935</th>\n",
       "      <td>150500</td>\n",
       "      <td>AAA Batteries (4-pack)</td>\n",
       "      <td>2</td>\n",
       "      <td>2.99</td>\n",
       "      <td>01/15/19 14:21</td>\n",
       "      <td>810 2nd St, Los Angeles, CA 90001</td>\n",
       "    </tr>\n",
       "    <tr>\n",
       "      <th>27936</th>\n",
       "      <td>150501</td>\n",
       "      <td>Google Phone</td>\n",
       "      <td>1</td>\n",
       "      <td>600</td>\n",
       "      <td>01/13/19 16:43</td>\n",
       "      <td>428 Cedar St, Boston, MA 02215</td>\n",
       "    </tr>\n",
       "  </tbody>\n",
       "</table>\n",
       "<p>27937 rows × 6 columns</p>\n",
       "</div>"
      ],
      "text/plain": [
       "      OrderID                     Product Qty   Price            Date  \\\n",
       "0      176558        USB-C Charging Cable   2   11.95  04/19/19 08:46   \n",
       "1      176559  Bose SoundSport Headphones   1   99.99  04/07/19 22:30   \n",
       "2      176560                Google Phone   1     600  04/12/19 14:38   \n",
       "3      176560            Wired Headphones   1   11.99  04/12/19 14:38   \n",
       "4      176561            Wired Headphones   1   11.99  04/30/19 09:27   \n",
       "...       ...                         ...  ..     ...             ...   \n",
       "27932  150497                20in Monitor   1  109.99  01/26/19 19:09   \n",
       "27933  150498            27in FHD Monitor   1  149.99  01/10/19 22:58   \n",
       "27934  150499             ThinkPad Laptop   1  999.99  01/21/19 14:31   \n",
       "27935  150500      AAA Batteries (4-pack)   2    2.99  01/15/19 14:21   \n",
       "27936  150501                Google Phone   1     600  01/13/19 16:43   \n",
       "\n",
       "                                    Address  \n",
       "0              917 1st St, Dallas, TX 75001  \n",
       "1         682 Chestnut St, Boston, MA 02215  \n",
       "2      669 Spruce St, Los Angeles, CA 90001  \n",
       "3      669 Spruce St, Los Angeles, CA 90001  \n",
       "4         333 8th St, Los Angeles, CA 90001  \n",
       "...                                     ...  \n",
       "27932           95 8th St, Dallas, TX 75001  \n",
       "27933   403 7th St, San Francisco, CA 94016  \n",
       "27934       214 Main St, Portland, OR 97035  \n",
       "27935     810 2nd St, Los Angeles, CA 90001  \n",
       "27936        428 Cedar St, Boston, MA 02215  \n",
       "\n",
       "[27937 rows x 6 columns]"
      ]
     },
     "execution_count": 60,
     "metadata": {},
     "output_type": "execute_result"
    }
   ],
   "source": [
    "spark.sql(\"SELECT * FROM glue.test.productsales VERSION AS OF 'ETL_branch'\").toPandas()"
   ]
  },
  {
   "cell_type": "code",
   "execution_count": 47,
   "id": "af867381",
   "metadata": {},
   "outputs": [
    {
     "name": "stderr",
     "output_type": "stream",
     "text": [
      "                                                                                \r"
     ]
    },
    {
     "data": {
      "text/html": [
       "<div>\n",
       "<style scoped>\n",
       "    .dataframe tbody tr th:only-of-type {\n",
       "        vertical-align: middle;\n",
       "    }\n",
       "\n",
       "    .dataframe tbody tr th {\n",
       "        vertical-align: top;\n",
       "    }\n",
       "\n",
       "    .dataframe thead th {\n",
       "        text-align: right;\n",
       "    }\n",
       "</style>\n",
       "<table border=\"1\" class=\"dataframe\">\n",
       "  <thead>\n",
       "    <tr style=\"text-align: right;\">\n",
       "      <th></th>\n",
       "      <th>OrderID</th>\n",
       "      <th>Product</th>\n",
       "      <th>Qty</th>\n",
       "      <th>Price</th>\n",
       "      <th>Date</th>\n",
       "      <th>Address</th>\n",
       "    </tr>\n",
       "  </thead>\n",
       "  <tbody>\n",
       "    <tr>\n",
       "      <th>0</th>\n",
       "      <td>176558</td>\n",
       "      <td>USB-C Charging Cable</td>\n",
       "      <td>2</td>\n",
       "      <td>11.95</td>\n",
       "      <td>04/19/19 08:46</td>\n",
       "      <td>917 1st St, Dallas, TX 75001</td>\n",
       "    </tr>\n",
       "    <tr>\n",
       "      <th>1</th>\n",
       "      <td>176559</td>\n",
       "      <td>Bose SoundSport Headphones</td>\n",
       "      <td>1</td>\n",
       "      <td>99.99</td>\n",
       "      <td>04/07/19 22:30</td>\n",
       "      <td>682 Chestnut St, Boston, MA 02215</td>\n",
       "    </tr>\n",
       "    <tr>\n",
       "      <th>2</th>\n",
       "      <td>176560</td>\n",
       "      <td>Google Phone</td>\n",
       "      <td>1</td>\n",
       "      <td>600</td>\n",
       "      <td>04/12/19 14:38</td>\n",
       "      <td>669 Spruce St, Los Angeles, CA 90001</td>\n",
       "    </tr>\n",
       "    <tr>\n",
       "      <th>3</th>\n",
       "      <td>176560</td>\n",
       "      <td>Wired Headphones</td>\n",
       "      <td>1</td>\n",
       "      <td>11.99</td>\n",
       "      <td>04/12/19 14:38</td>\n",
       "      <td>669 Spruce St, Los Angeles, CA 90001</td>\n",
       "    </tr>\n",
       "    <tr>\n",
       "      <th>4</th>\n",
       "      <td>176561</td>\n",
       "      <td>Wired Headphones</td>\n",
       "      <td>1</td>\n",
       "      <td>11.99</td>\n",
       "      <td>04/30/19 09:27</td>\n",
       "      <td>333 8th St, Los Angeles, CA 90001</td>\n",
       "    </tr>\n",
       "    <tr>\n",
       "      <th>...</th>\n",
       "      <td>...</td>\n",
       "      <td>...</td>\n",
       "      <td>...</td>\n",
       "      <td>...</td>\n",
       "      <td>...</td>\n",
       "      <td>...</td>\n",
       "    </tr>\n",
       "    <tr>\n",
       "      <th>18261</th>\n",
       "      <td>194090</td>\n",
       "      <td>Google Phone</td>\n",
       "      <td>1</td>\n",
       "      <td>600</td>\n",
       "      <td>04/08/19 17:11</td>\n",
       "      <td>177 Jackson St, Los Angeles, CA 90001</td>\n",
       "    </tr>\n",
       "    <tr>\n",
       "      <th>18262</th>\n",
       "      <td>194091</td>\n",
       "      <td>AA Batteries (4-pack)</td>\n",
       "      <td>1</td>\n",
       "      <td>3.84</td>\n",
       "      <td>04/15/19 16:02</td>\n",
       "      <td>311 Forest St, Austin, TX 73301</td>\n",
       "    </tr>\n",
       "    <tr>\n",
       "      <th>18263</th>\n",
       "      <td>194092</td>\n",
       "      <td>AAA Batteries (4-pack)</td>\n",
       "      <td>2</td>\n",
       "      <td>2.99</td>\n",
       "      <td>04/28/19 14:36</td>\n",
       "      <td>347 Sunset St, San Francisco, CA 94016</td>\n",
       "    </tr>\n",
       "    <tr>\n",
       "      <th>18264</th>\n",
       "      <td>194093</td>\n",
       "      <td>AA Batteries (4-pack)</td>\n",
       "      <td>1</td>\n",
       "      <td>3.84</td>\n",
       "      <td>04/14/19 15:09</td>\n",
       "      <td>835 Lake St, Portland, OR 97035</td>\n",
       "    </tr>\n",
       "    <tr>\n",
       "      <th>18265</th>\n",
       "      <td>194094</td>\n",
       "      <td>Lightning Charging Cable</td>\n",
       "      <td>1</td>\n",
       "      <td>14.95</td>\n",
       "      <td>04/18/19 11:08</td>\n",
       "      <td>354 North St, Boston, MA 02215</td>\n",
       "    </tr>\n",
       "  </tbody>\n",
       "</table>\n",
       "<p>18266 rows × 6 columns</p>\n",
       "</div>"
      ],
      "text/plain": [
       "      OrderID                     Product Qty  Price            Date  \\\n",
       "0      176558        USB-C Charging Cable   2  11.95  04/19/19 08:46   \n",
       "1      176559  Bose SoundSport Headphones   1  99.99  04/07/19 22:30   \n",
       "2      176560                Google Phone   1    600  04/12/19 14:38   \n",
       "3      176560            Wired Headphones   1  11.99  04/12/19 14:38   \n",
       "4      176561            Wired Headphones   1  11.99  04/30/19 09:27   \n",
       "...       ...                         ...  ..    ...             ...   \n",
       "18261  194090                Google Phone   1    600  04/08/19 17:11   \n",
       "18262  194091       AA Batteries (4-pack)   1   3.84  04/15/19 16:02   \n",
       "18263  194092      AAA Batteries (4-pack)   2   2.99  04/28/19 14:36   \n",
       "18264  194093       AA Batteries (4-pack)   1   3.84  04/14/19 15:09   \n",
       "18265  194094    Lightning Charging Cable   1  14.95  04/18/19 11:08   \n",
       "\n",
       "                                      Address  \n",
       "0                917 1st St, Dallas, TX 75001  \n",
       "1           682 Chestnut St, Boston, MA 02215  \n",
       "2        669 Spruce St, Los Angeles, CA 90001  \n",
       "3        669 Spruce St, Los Angeles, CA 90001  \n",
       "4           333 8th St, Los Angeles, CA 90001  \n",
       "...                                       ...  \n",
       "18261   177 Jackson St, Los Angeles, CA 90001  \n",
       "18262         311 Forest St, Austin, TX 73301  \n",
       "18263  347 Sunset St, San Francisco, CA 94016  \n",
       "18264         835 Lake St, Portland, OR 97035  \n",
       "18265          354 North St, Boston, MA 02215  \n",
       "\n",
       "[18266 rows x 6 columns]"
      ]
     },
     "execution_count": 47,
     "metadata": {},
     "output_type": "execute_result"
    }
   ],
   "source": [
    "spark.sql(\"SELECT * FROM glue.test.productsales VERSION AS OF 'main'\").toPandas()"
   ]
  },
  {
   "cell_type": "markdown",
   "id": "c153c8b4",
   "metadata": {},
   "source": [
    "# Publish Stage:"
   ]
  },
  {
   "cell_type": "code",
   "execution_count": 61,
   "id": "ad7596bd",
   "metadata": {},
   "outputs": [
    {
     "data": {
      "text/html": [
       "<div>\n",
       "<style scoped>\n",
       "    .dataframe tbody tr th:only-of-type {\n",
       "        vertical-align: middle;\n",
       "    }\n",
       "\n",
       "    .dataframe tbody tr th {\n",
       "        vertical-align: top;\n",
       "    }\n",
       "\n",
       "    .dataframe thead th {\n",
       "        text-align: right;\n",
       "    }\n",
       "</style>\n",
       "<table border=\"1\" class=\"dataframe\">\n",
       "  <thead>\n",
       "    <tr style=\"text-align: right;\">\n",
       "      <th></th>\n",
       "      <th>name</th>\n",
       "      <th>type</th>\n",
       "      <th>snapshot_id</th>\n",
       "      <th>max_reference_age_in_ms</th>\n",
       "      <th>min_snapshots_to_keep</th>\n",
       "      <th>max_snapshot_age_in_ms</th>\n",
       "    </tr>\n",
       "  </thead>\n",
       "  <tbody>\n",
       "    <tr>\n",
       "      <th>0</th>\n",
       "      <td>ETL_branch</td>\n",
       "      <td>BRANCH</td>\n",
       "      <td>6348938829066125512</td>\n",
       "      <td>NaN</td>\n",
       "      <td>NaN</td>\n",
       "      <td>NaN</td>\n",
       "    </tr>\n",
       "    <tr>\n",
       "      <th>1</th>\n",
       "      <td>main</td>\n",
       "      <td>BRANCH</td>\n",
       "      <td>3416205539179840364</td>\n",
       "      <td>NaN</td>\n",
       "      <td>NaN</td>\n",
       "      <td>NaN</td>\n",
       "    </tr>\n",
       "  </tbody>\n",
       "</table>\n",
       "</div>"
      ],
      "text/plain": [
       "         name    type          snapshot_id  max_reference_age_in_ms  \\\n",
       "0  ETL_branch  BRANCH  6348938829066125512                      NaN   \n",
       "1        main  BRANCH  3416205539179840364                      NaN   \n",
       "\n",
       "   min_snapshots_to_keep  max_snapshot_age_in_ms  \n",
       "0                    NaN                     NaN  \n",
       "1                    NaN                     NaN  "
      ]
     },
     "execution_count": 61,
     "metadata": {},
     "output_type": "execute_result"
    }
   ],
   "source": [
    "spark.sql(\"SELECT * FROM glue.test.productsales.refs\").toPandas()"
   ]
  },
  {
   "cell_type": "code",
   "execution_count": null,
   "id": "369c2fff",
   "metadata": {},
   "outputs": [],
   "source": [
    "spark.sql(\"CALL glue.system.cherrypick_snapshot('test.productsales', 6348938829066125512)\").show()"
   ]
  },
  {
   "cell_type": "code",
   "execution_count": null,
   "id": "7c59f832",
   "metadata": {},
   "outputs": [],
   "source": [
    "spark.sql(\"SELECT * FROM glue.test.productsales VERSION AS OF 'main'\").toPandas()"
   ]
  },
  {
   "cell_type": "markdown",
   "id": "f0e5c323",
   "metadata": {},
   "source": [
    "# Unset the WAP property"
   ]
  },
  {
   "cell_type": "code",
   "execution_count": null,
   "id": "05b7dcc4",
   "metadata": {},
   "outputs": [],
   "source": [
    "spark.conf.unset('spark.wap.branch')"
   ]
  },
  {
   "cell_type": "markdown",
   "id": "e23f9e08",
   "metadata": {},
   "source": [
    "# If data quality isn't good as per the set expectations, just DROP the branch"
   ]
  },
  {
   "cell_type": "code",
   "execution_count": null,
   "id": "8b5ff087",
   "metadata": {},
   "outputs": [],
   "source": [
    "spark.sql(\"ALTER TABLE glue.test.productsales DROP BRANCH ETL_branch\")"
   ]
  }
 ],
 "metadata": {
  "kernelspec": {
   "display_name": "Python 3 (ipykernel)",
   "language": "python",
   "name": "python3"
  },
  "language_info": {
   "codemirror_mode": {
    "name": "ipython",
    "version": 3
   },
   "file_extension": ".py",
   "mimetype": "text/x-python",
   "name": "python",
   "nbconvert_exporter": "python",
   "pygments_lexer": "ipython3",
   "version": "3.10.6"
  }
 },
 "nbformat": 4,
 "nbformat_minor": 5
}
