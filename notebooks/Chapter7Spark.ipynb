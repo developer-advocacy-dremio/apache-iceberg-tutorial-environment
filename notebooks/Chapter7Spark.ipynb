{
 "cells": [
  {
   "cell_type": "code",
   "execution_count": 1,
   "id": "ed2a491b",
   "metadata": {},
   "outputs": [
    {
     "name": "stdout",
     "output_type": "stream",
     "text": [
      "env: AWS_REGION=region\n",
      "env: AWS_ACCESS_KEY_ID=key\n",
      "env: AWS_SECRET_ACCESS_KEY=secret\n"
     ]
    }
   ],
   "source": [
    "# Define the AWS env variables if you are using AWS Auth:\n",
    "%env AWS_REGION= region\n",
    "%env AWS_ACCESS_KEY_ID= key\n",
    "%env AWS_SECRET_ACCESS_KEY= secret"
   ]
  },
  {
   "cell_type": "code",
   "execution_count": 3,
   "id": "88939453",
   "metadata": {
    "scrolled": true
   },
   "outputs": [
    {
     "name": "stdout",
     "output_type": "stream",
     "text": [
      ":: loading settings :: url = jar:file:/home/docker/.local/lib/python3.10/site-packages/pyspark/jars/ivy-2.5.0.jar!/org/apache/ivy/core/settings/ivysettings.xml\n"
     ]
    },
    {
     "name": "stderr",
     "output_type": "stream",
     "text": [
      "Ivy Default Cache set to: /home/docker/.ivy2/cache\n",
      "The jars for the packages stored in: /home/docker/.ivy2/jars\n",
      "org.apache.iceberg#iceberg-spark-runtime-3.3_2.12 added as a dependency\n",
      "software.amazon.awssdk#bundle added as a dependency\n",
      "software.amazon.awssdk#url-connection-client added as a dependency\n",
      ":: resolving dependencies :: org.apache.spark#spark-submit-parent-00e84c3c-8393-480a-9da9-09591325e3c8;1.0\n",
      "\tconfs: [default]\n",
      "\tfound org.apache.iceberg#iceberg-spark-runtime-3.3_2.12;1.2.0 in central\n",
      "\tfound software.amazon.awssdk#bundle;2.17.178 in central\n",
      "\tfound software.amazon.eventstream#eventstream;1.0.1 in central\n",
      "\tfound software.amazon.awssdk#url-connection-client;2.17.178 in central\n",
      "\tfound software.amazon.awssdk#utils;2.17.178 in central\n",
      "\tfound org.reactivestreams#reactive-streams;1.0.3 in central\n",
      "\tfound software.amazon.awssdk#annotations;2.17.178 in central\n",
      "\tfound org.slf4j#slf4j-api;1.7.30 in central\n",
      "\tfound software.amazon.awssdk#http-client-spi;2.17.178 in central\n",
      "\tfound software.amazon.awssdk#metrics-spi;2.17.178 in central\n",
      ":: resolution report :: resolve 2027ms :: artifacts dl 117ms\n",
      "\t:: modules in use:\n",
      "\torg.apache.iceberg#iceberg-spark-runtime-3.3_2.12;1.2.0 from central in [default]\n",
      "\torg.reactivestreams#reactive-streams;1.0.3 from central in [default]\n",
      "\torg.slf4j#slf4j-api;1.7.30 from central in [default]\n",
      "\tsoftware.amazon.awssdk#annotations;2.17.178 from central in [default]\n",
      "\tsoftware.amazon.awssdk#bundle;2.17.178 from central in [default]\n",
      "\tsoftware.amazon.awssdk#http-client-spi;2.17.178 from central in [default]\n",
      "\tsoftware.amazon.awssdk#metrics-spi;2.17.178 from central in [default]\n",
      "\tsoftware.amazon.awssdk#url-connection-client;2.17.178 from central in [default]\n",
      "\tsoftware.amazon.awssdk#utils;2.17.178 from central in [default]\n",
      "\tsoftware.amazon.eventstream#eventstream;1.0.1 from central in [default]\n",
      "\t---------------------------------------------------------------------\n",
      "\t|                  |            modules            ||   artifacts   |\n",
      "\t|       conf       | number| search|dwnlded|evicted|| number|dwnlded|\n",
      "\t---------------------------------------------------------------------\n",
      "\t|      default     |   10  |   0   |   0   |   0   ||   10  |   0   |\n",
      "\t---------------------------------------------------------------------\n",
      ":: retrieving :: org.apache.spark#spark-submit-parent-00e84c3c-8393-480a-9da9-09591325e3c8\n",
      "\tconfs: [default]\n",
      "\t0 artifacts copied, 10 already retrieved (0kB/50ms)\n"
     ]
    },
    {
     "name": "stdout",
     "output_type": "stream",
     "text": [
      "23/08/15 20:02:31 WARN NativeCodeLoader: Unable to load native-hadoop library for your platform... using builtin-java classes where applicable\n"
     ]
    },
    {
     "name": "stderr",
     "output_type": "stream",
     "text": [
      "Setting default log level to \"WARN\".\n",
      "To adjust logging level use sc.setLogLevel(newLevel). For SparkR, use setLogLevel(newLevel).\n"
     ]
    },
    {
     "name": "stdout",
     "output_type": "stream",
     "text": [
      "Spark Running\n"
     ]
    }
   ],
   "source": [
    "import pyspark\n",
    "from pyspark.sql import SparkSession\n",
    "import os\n",
    "\n",
    "\n",
    "conf = (\n",
    "    pyspark.SparkConf()\n",
    "        .setAppName('app_name')\n",
    "    \n",
    "    # first we will define the packages that we need. Iceberg Spark runtime\n",
    "        .set('spark.jars.packages', 'org.apache.iceberg:iceberg-spark-runtime-3.3_2.12:1.2.0,software.amazon.awssdk:bundle:2.17.178,software.amazon.awssdk:url-connection-client:2.17.178')\n",
    "        \n",
    "    # This property allows us to add any extensions that we want to use\n",
    "        .set('spark.sql.extensions', 'org.apache.iceberg.spark.extensions.IcebergSparkSessionExtensions')\n",
    "    \n",
    "    # configures a new catalog to a particular implementation of SparkCatalog\n",
    "        .set('spark.sql.catalog.glue', 'org.apache.iceberg.spark.SparkCatalog')\n",
    "    \n",
    "    # particular type of catalog we are using\n",
    "        .set('spark.sql.catalog.glue.catalog-impl', 'org.apache.iceberg.aws.glue.GlueCatalog')\n",
    "    \n",
    "    # engine writes to the warehouse\n",
    "        .set('spark.sql.catalog.glue.warehouse', 's3://my-bucket/warehouse/')\n",
    "    \n",
    "    # changes IO impl of catalog, mainly for changing writing data to object storage\n",
    "        .set('spark.sql.catalog.glue.io-impl', 'org.apache.iceberg.aws.s3.S3FileIO')\n",
    ")\n",
    "\n",
    "## Start Spark Session\n",
    "spark = SparkSession.builder.config(conf=conf).getOrCreate()\n",
    "print(\"Spark Running\")"
   ]
  },
  {
   "cell_type": "code",
   "execution_count": 5,
   "id": "c3081994",
   "metadata": {},
   "outputs": [
    {
     "data": {
      "text/plain": [
       "DataFrame[]"
      ]
     },
     "execution_count": 5,
     "metadata": {},
     "output_type": "execute_result"
    }
   ],
   "source": [
    "# Creating a Simple Table:\n",
    "spark.sql(\"\"\"\n",
    "    CREATE TABLE glue.test.employees (\n",
    "        id INT,\n",
    "        role STRING,\n",
    "        department STRING,\n",
    "        salary FLOAT,\n",
    "        region STRING)\n",
    "    USING iceberg\n",
    "\"\"\")"
   ]
  },
  {
   "cell_type": "code",
   "execution_count": null,
   "id": "f880ccd1",
   "metadata": {},
   "outputs": [],
   "source": [
    "# Creating a Partitioned Table\n",
    "spark.sql(\"\"\"\n",
    "    CREATE TABLE glue.test.emp_partitioned (\n",
    "        id INT,\n",
    "        role STRING,\n",
    "        department STRING)\n",
    "    USING iceberg\n",
    "    PARTITIONED BY (department)\n",
    "\"\"\")"
   ]
  },
  {
   "cell_type": "code",
   "execution_count": null,
   "id": "c1bcaeca",
   "metadata": {},
   "outputs": [],
   "source": [
    "# Creating a Partitioned Table using a transform expression:\n",
    "spark.sql(\"\"\"\n",
    "    CREATE TABLE glue.test.emp_partitioned_month (\n",
    "        id INT,\n",
    "        role STRING,\n",
    "        department STRING,\n",
    "        join_date DATE\n",
    "    )\n",
    "    USING iceberg\n",
    "    PARTITIONED BY (months(join_date))\n",
    "\"\"\")"
   ]
  },
  {
   "cell_type": "code",
   "execution_count": null,
   "id": "9ff2a6ce",
   "metadata": {},
   "outputs": [],
   "source": [
    "# Create Table AS (CTAS):\n",
    "spark.sql(\"\"\"\n",
    "    CREATE TABLE glue.test.employee_ctas\n",
    "    USING iceberg\n",
    "    AS SELECT * FROM glue.test.sample\n",
    "\"\"\")"
   ]
  },
  {
   "cell_type": "code",
   "execution_count": 6,
   "id": "bb41a7e8",
   "metadata": {},
   "outputs": [],
   "source": [
    "# CTAS with Properties:\n",
    "spark.sql(\"\"\"\n",
    "    CREATE TABLE glue.test.emp_ctas_partition\n",
    "    USING iceberg\n",
    "    PARTITIONED BY (category)\n",
    "    TBLPROPERTIES (write.format.default='avro')\n",
    "    AS SELECT *\n",
    "    FROM glue.test.sample\n",
    "\"\"\")"
   ]
  },
  {
   "cell_type": "code",
   "execution_count": null,
   "id": "5bd538e1",
   "metadata": {},
   "outputs": [],
   "source": [
    "# ALTER Table:\n",
    "spark.sql(\"\"\"\n",
    "    ALTER TABLE glue.test.employees RENAME TO glue.test.emp_renamed\n",
    "\"\"\")"
   ]
  },
  {
   "cell_type": "code",
   "execution_count": 7,
   "id": "f9d01d87",
   "metadata": {},
   "outputs": [],
   "source": [
    "# Set Table Properties:\n",
    "spark.sql(\"\"\"\n",
    "    ALTER TABLE glue.test.employees SET TBLPROPERTIES ('write.wap.enabled'='true')\n",
    "\"\"\")"
   ]
  },
  {
   "cell_type": "code",
   "execution_count": 9,
   "id": "2b458bb7",
   "metadata": {},
   "outputs": [],
   "source": [
    "# Add Column:\n",
    "spark.sql(\"\"\"\n",
    "    ALTER TABLE glue.test.employees ADD COLUMN manager STRING\n",
    "\"\"\")"
   ]
  },
  {
   "cell_type": "code",
   "execution_count": null,
   "id": "40c84713",
   "metadata": {},
   "outputs": [],
   "source": [
    "# Add Multiple Columns:\n",
    "spark.sql(\"\"\"\n",
    "    ALTER TABLE glue.test.employees ADD COLUMN details STRING, manager_id INT\n",
    "\"\"\")"
   ]
  },
  {
   "cell_type": "code",
   "execution_count": null,
   "id": "2788c75d",
   "metadata": {},
   "outputs": [],
   "source": [
    "# Add Column to Specific Position:\n",
    "spark.sql(\"\"\"\n",
    "ALTER TABLE glue.test.employees ADD COLUMN new_column bigint AFTER department\n",
    "\"\"\")"
   ]
  },
  {
   "cell_type": "code",
   "execution_count": null,
   "id": "0e84c7ab",
   "metadata": {},
   "outputs": [],
   "source": [
    "# Rename Column:\n",
    "spark.sql(\"\"\"\n",
    "    ALTER TABLE glue.test.employees RENAME COLUMN role TO title\n",
    "\"\"\")"
   ]
  },
  {
   "cell_type": "code",
   "execution_count": null,
   "id": "6d9ff138",
   "metadata": {},
   "outputs": [],
   "source": [
    "# Modify Column:\n",
    "spark.sql(\"\"\"\n",
    "    ALTER TABLE glue.test.employees ALTER COLUMN id TYPE BIGINT\n",
    "\"\"\")"
   ]
  },
  {
   "cell_type": "code",
   "execution_count": null,
   "id": "dd3c22b1",
   "metadata": {},
   "outputs": [],
   "source": [
    "# Reorder Column:\n",
    "spark.sql(\"ALTER TABLE glue.test.employees ALTER COLUMN salary FIRST\")"
   ]
  },
  {
   "cell_type": "code",
   "execution_count": null,
   "id": "393def2e",
   "metadata": {},
   "outputs": [],
   "source": [
    "# Drop Column:\n",
    "spark.sql(\"\"\"\n",
    "    ALTER TABLE glue.test.employees DROP COLUMN department\n",
    "\"\"\")"
   ]
  },
  {
   "cell_type": "code",
   "execution_count": null,
   "id": "ae4caffb",
   "metadata": {},
   "outputs": [],
   "source": [
    "# Add Partition (with SQL Extension):\n",
    "spark.sql(\"\"\"\n",
    "    ALTER TABLE glue.test.employees ADD PARTITION FIELD region\n",
    "\"\"\")"
   ]
  },
  {
   "cell_type": "code",
   "execution_count": null,
   "id": "dc63d89c",
   "metadata": {},
   "outputs": [],
   "source": [
    "# Drop Partition (with SQL Extension):\n",
    "spark.sql(\"\"\"\n",
    "    ALTER TABLE glue.test.employees DROP PARTITION FIELD department\n",
    "\"\"\")"
   ]
  },
  {
   "cell_type": "code",
   "execution_count": null,
   "id": "e20bdd32",
   "metadata": {},
   "outputs": [],
   "source": [
    "# Replace Partition (with SQL Extension):\n",
    "spark.sql(\"\"\"\n",
    "    ALTER TABLE glue.test.employees REPLACE PARTITION FIELD region WITH department\n",
    "\"\"\")"
   ]
  },
  {
   "cell_type": "code",
   "execution_count": null,
   "id": "08d68f5b",
   "metadata": {},
   "outputs": [],
   "source": [
    "# Set Write Order:\n",
    "spark.sql(\"\"\"\n",
    "    ALTER TABLE glue.test.employees WRITE ORDERED BY id ASC\n",
    "\"\"\")"
   ]
  },
  {
   "cell_type": "code",
   "execution_count": null,
   "id": "dbb21a3c",
   "metadata": {},
   "outputs": [],
   "source": [
    "# Set Write Distribution:\n",
    "spark.sql(\"\"\"\n",
    "    ALTER TABLE glue.test.employees WRITE DISTRIBUTED BY PARTITION\n",
    "\"\"\")"
   ]
  },
  {
   "cell_type": "code",
   "execution_count": null,
   "id": "39e28670",
   "metadata": {},
   "outputs": [],
   "source": [
    "# Set Identifier Field:\n",
    "spark.sql(\"\"\"\n",
    "    ALTER TABLE glue.test.employees SET IDENTIFIER FIELDS id\n",
    "\"\"\")"
   ]
  },
  {
   "cell_type": "code",
   "execution_count": null,
   "id": "d62b2af3",
   "metadata": {},
   "outputs": [],
   "source": [
    "# Drop Identifier Field:\n",
    "spark.sql(\"\"\"\n",
    "    ALTER TABLE glue.test.employees DROP IDENTIFIER FIELDS id\n",
    "\"\"\")"
   ]
  },
  {
   "cell_type": "code",
   "execution_count": null,
   "id": "e0aee620",
   "metadata": {},
   "outputs": [],
   "source": [
    "# Drop Table:\n",
    "spark.sql(\"DROP TABLE glue.test.employees\")"
   ]
  },
  {
   "cell_type": "code",
   "execution_count": null,
   "id": "f0985ebc",
   "metadata": {},
   "outputs": [],
   "source": [
    "# Purge Table:\n",
    "spark.sql(\"DROP TABLE glue.test.employees PURGE\")"
   ]
  },
  {
   "cell_type": "code",
   "execution_count": null,
   "id": "9e5ec91e",
   "metadata": {},
   "outputs": [],
   "source": [
    "# Select All Query:\n",
    "spark.sql(\"SELECT * FROM glue.test.employees\").show()"
   ]
  },
  {
   "cell_type": "code",
   "execution_count": 10,
   "id": "414c36a1",
   "metadata": {},
   "outputs": [],
   "source": [
    "# Filtering Rows:\n",
    "spark.sql(\"SELECT * FROM glue.test.employees WHERE department = 'Marketing'\").show()"
   ]
  },
  {
   "cell_type": "code",
   "execution_count": null,
   "id": "59804cdd",
   "metadata": {},
   "outputs": [],
   "source": [
    "# Aggregated Queries:\n",
    "# Count:\n",
    "spark.sql(\"SELECT COUNT(*) FROM glue.test.employees\").show()\n",
    "\n",
    "# Average:\n",
    "spark.sql(\"SELECT AVG(salary) FROM glue.test.employees\").show()\n",
    "\n",
    "# Sum:\n",
    "spark.sql(\"SELECT SUM(salary) FROM glue.test.employees\").show()\n",
    "\n",
    "# Maximum:\n",
    "spark.sql(\"SELECT category, MAX(salary) FROM glue.test.employees GROUP BY category\").show()\n",
    "\n",
    "# Window Function (Rank):\n",
    "spark.sql(\"\"\"\n",
    "SELECT * , RANK() OVER (PARTITION BY department ORDER BY salary DESC) as rank\n",
    "FROM glue.test.employees\n",
    "\"\"\").show()"
   ]
  },
  {
   "cell_type": "code",
   "execution_count": null,
   "id": "c0ee51cd",
   "metadata": {},
   "outputs": [],
   "source": [
    "# INSERT INTO:\n",
    "spark.sql(\"\"\"\n",
    "INSERT INTO glue.test.employees \n",
    "VALUES \n",
    "(1, 'Software Engineer', 'Engineering', 25000, 'NA'),\n",
    "(2, 'Director', 'Sales', 22000, 'EMEA')\n",
    "\"\"\")"
   ]
  },
  {
   "cell_type": "code",
   "execution_count": null,
   "id": "c47cba41",
   "metadata": {},
   "outputs": [],
   "source": [
    "# MERGE INTO: (Please ensure to create the 'employee_updates' table prior to running this)\n",
    "spark.sql(\"\"\"\n",
    "MERGE INTO glue.test.employees AS target\n",
    "USING (SELECT * FROM employee_updates) AS source\n",
    "ON target.id = source.id\n",
    "WHEN MATCHED AND source.role = 'Manager' AND source.salary > 100000 THEN\n",
    "    UPDATE SET target.salary = source.salary\n",
    "WHEN NOT MATCHED THEN\n",
    "    INSERT *\n",
    "\"\"\")"
   ]
  },
  {
   "cell_type": "code",
   "execution_count": null,
   "id": "ba32b182",
   "metadata": {},
   "outputs": [],
   "source": [
    "# INSERT OVERWRITE: Static Overwrite\n",
    "spark.sql(\"\"\"\n",
    "INSERT OVERWRITE glue.test.employees\n",
    "PARTITION (region = 'EMEA')\n",
    "SELECT * \n",
    "FROM employee_source\n",
    "WHERE region = 'EMEA'\n",
    "\"\"\")"
   ]
  },
  {
   "cell_type": "code",
   "execution_count": null,
   "id": "63db7032",
   "metadata": {},
   "outputs": [],
   "source": [
    "# INSERT OVERWRITE: Dynamic Overwrite. Please make sure to set \n",
    "# spark.conf.set(\"spark.sql.sources.partitionOverwriteMode\", \"dynamic\") in your Spark app.\n",
    "# Make sure to create the 'employee_source' table prior to running this.\n",
    "spark.sql(\"\"\"\n",
    "INSERT OVERWRITE glue.test.employees\n",
    "SELECT * FROM employee_source\n",
    "WHERE region = 'EMEA'\n",
    "\"\"\")"
   ]
  },
  {
   "cell_type": "code",
   "execution_count": null,
   "id": "40205802",
   "metadata": {},
   "outputs": [],
   "source": [
    "# Delete:\n",
    "spark.sql(\"DELETE FROM glue.test.employees WHERE id < 3\")"
   ]
  },
  {
   "cell_type": "code",
   "execution_count": null,
   "id": "ce1ac7b7",
   "metadata": {},
   "outputs": [],
   "source": [
    "# Update:\n",
    "spark.sql(\"\"\"\n",
    "UPDATE glue.test.employee\n",
    "SET region = 'APAC', salary = 6000\n",
    "WHERE id = 6\n",
    "\"\"\")"
   ]
  },
  {
   "cell_type": "code",
   "execution_count": null,
   "id": "71d8f45c",
   "metadata": {},
   "outputs": [],
   "source": [
    "# Expire Snapshots Procedure:\n",
    "spark.sql(\"CALL glue.system.expire_snapshots('test.employees', date_sub(current_date(), 90), 50)\")"
   ]
  },
  {
   "cell_type": "code",
   "execution_count": null,
   "id": "23d373e6",
   "metadata": {},
   "outputs": [],
   "source": [
    "# Rewrite Data Files:\n",
    "spark.sql(\"CALL glue.system.rewrite_data_files('test.employees')\")"
   ]
  },
  {
   "cell_type": "code",
   "execution_count": null,
   "id": "784a1d45",
   "metadata": {},
   "outputs": [],
   "source": [
    "# Rewrite Manifests:\n",
    "spark.sql(\"CALL test.system.rewrite_manifests('test.employees')\")"
   ]
  },
  {
   "cell_type": "code",
   "execution_count": null,
   "id": "e1f707fb",
   "metadata": {},
   "outputs": [],
   "source": [
    "# Remove Orphan files:\n",
    "spark.sql(\"CALL glue.system.remove_orphan_files(table => 'test.employees', dry_run => true)\")"
   ]
  },
  {
   "cell_type": "code",
   "execution_count": null,
   "id": "4c5fa3fd",
   "metadata": {},
   "outputs": [],
   "source": []
  }
 ],
 "metadata": {
  "kernelspec": {
   "display_name": "Python 3 (ipykernel)",
   "language": "python",
   "name": "python3"
  },
  "language_info": {
   "codemirror_mode": {
    "name": "ipython",
    "version": 3
   },
   "file_extension": ".py",
   "mimetype": "text/x-python",
   "name": "python",
   "nbconvert_exporter": "python",
   "pygments_lexer": "ipython3",
   "version": "3.10.6"
  }
 },
 "nbformat": 4,
 "nbformat_minor": 5
}
